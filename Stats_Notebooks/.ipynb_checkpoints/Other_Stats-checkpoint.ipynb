{
 "cells": [
  {
   "cell_type": "code",
   "execution_count": null,
   "metadata": {},
   "outputs": [],
   "source": [
    "# Import dependencies\n",
    "import pandas as pd\n",
    "import numpy as np\n",
    "import matplotlib.pyplot as plt\n",
    "import seaborn as sns\n",
    "%matplotlib inline\n",
    "import warnings\n",
    "warnings.filterwarnings('ignore')\n",
    "import scipy.stats as stats\n",
    "import os"
   ]
  },
  {
   "cell_type": "code",
   "execution_count": null,
   "metadata": {},
   "outputs": [],
   "source": [
    "# Read in the csv\n",
    "df = pd.read_csv(\"../Resources/Autism.csv\")\n",
    "\n",
    "# Drop the null columns where all values are null\n",
    "df = df.dropna(axis='columns', how='all')\n",
    "\n",
    "# Drop the null rows\n",
    "df = df.dropna()\n",
    "\n",
    "# View all columns\n",
    "pd.set_option('display.max_columns', None)\n",
    "\n",
    "print(df.shape)\n",
    "df.head()"
   ]
  },
  {
   "cell_type": "markdown",
   "metadata": {},
   "source": [
    "# Violin Plot"
   ]
  },
  {
   "cell_type": "code",
   "execution_count": null,
   "metadata": {},
   "outputs": [],
   "source": [
    "# Violin Plot: Score and Sex by Family History of Autism\n",
    "\n",
    "# First set figure size\n",
    "plt.figure(figsize=(8,8))\n",
    "\n",
    "# Set up visualiation\n",
    "sns.set(style=\"darkgrid\")\n",
    "ax = sns.violinplot(x=\"Sex\", y=\"Score\", hue=\"Family_ASD\", data=df, split=True,\n",
    "               inner=\"quartile\", palette={'no': \"lightsalmon\", 'yes': \"dodgerblue\"})\n",
    "\n",
    "# Format titles and labels\n",
    "ax.set_title('Score Distributation by Family History\\n'\n",
    "             'and Gender', fontsize=20)\n",
    "\n",
    "ax.set_xlabel('Gender',fontsize=15)\n",
    "ax.set_ylabel('Score', fontsize=15)\n",
    "\n",
    "# Save image\n",
    "plt.savefig(os.path.join(\"..\", \"Images\", \"Violin_Family_Gender.png\")) "
   ]
  },
  {
   "cell_type": "markdown",
   "metadata": {},
   "source": [
    "### Observations:\n",
    "Doing a violin plot broken down by sex first and then yes or no to family history of autism.\n",
    "FAMILY HISTORY: Doesn't appear to be a big difference between men and women with a family history of autism.  The difference comes between the answers to a family history.  Looks like across the board, 75% of males and females w/o a family history fall below a score of 7.  Whereas those with a family history, there's a higher 75th percentile score of 8.  And that appears across the board, a one point higher difference between the family and non-family groups."
   ]
  },
  {
   "cell_type": "markdown",
   "metadata": {},
   "source": [
    "# Boxplot Series by App User"
   ]
  },
  {
   "cell_type": "code",
   "execution_count": null,
   "metadata": {},
   "outputs": [],
   "source": [
    "# Looking at boxplots as it pertains to who takes the test and the resulting score\n",
    "\n",
    "# Create 7 boxplots that will be broken down my user who took test and resulting classification\n",
    "g = sns.catplot(x=\"Class\", y=\"Score\", hue=\"Class\",\n",
    "                col=\"User\", data=df, kind=\"box\", \n",
    "                size=4, aspect=.65, \n",
    "                palette={'NO': \"lemonchiffon\", 'YES': \"lightskyblue\"}, linewidth=1,\n",
    "                saturation=1)\n",
    "\n",
    "# Set labels\n",
    "(g.set_axis_labels(\"Autism\", \"Score\")\n",
    "  .set_xticklabels(['No', 'Yes'], fontsize=12)\n",
    "  .set_titles(\"{col_var}: {col_name}\"))\n",
    "\n",
    "# Save figure\n",
    "plt.savefig(os.path.join(\"..\", \"Images\", \"TestTakerBoxPlots.png\"))"
   ]
  },
  {
   "cell_type": "markdown",
   "metadata": {},
   "source": [
    "### Observations:\n",
    "Looking across all of the boxplots, there appears to be a stable median 50% across both groups.  This could indicate that the test is viable in terms of giving steady results, not largely swayed based on who's taking it.     "
   ]
  },
  {
   "cell_type": "markdown",
   "metadata": {},
   "source": [
    "# Stats Table Creation"
   ]
  },
  {
   "cell_type": "code",
   "execution_count": null,
   "metadata": {},
   "outputs": [],
   "source": [
    "df.head()"
   ]
  },
  {
   "cell_type": "code",
   "execution_count": null,
   "metadata": {},
   "outputs": [],
   "source": [
    "# Count participants\n",
    "participants = df['Case No'].nunique()\n",
    "print(participants)"
   ]
  },
  {
   "cell_type": "code",
   "execution_count": null,
   "metadata": {},
   "outputs": [],
   "source": [
    "# Age statistics\n",
    "\n",
    "max_age = df['Age'].max()\n",
    "min_age = df['Age'].min()\n",
    "median_age = df['Age'].median()\n",
    "print(max_age)\n",
    "print(min_age)\n",
    "print(median_age)"
   ]
  },
  {
   "cell_type": "code",
   "execution_count": null,
   "metadata": {},
   "outputs": [],
   "source": [
    "# Gender numbers\n",
    "\n",
    "# Men\n",
    "men_df = df.loc[df['Sex'] == 'm']\n",
    "men = men_df['Case No'].count()\n",
    "\n",
    "# Women\n",
    "women_df = df.loc[df['Sex'] == 'f']\n",
    "women = women_df['Case No'].count()"
   ]
  },
  {
   "cell_type": "code",
   "execution_count": null,
   "metadata": {},
   "outputs": [],
   "source": [
    "# Autism Label\n",
    "\n",
    "# Those with Autism\n",
    "yes_df = df.loc[df['Class'] == 'YES']\n",
    "yes = yes_df['Case No'].count()\n",
    "\n",
    "# Those without Autism\n",
    "no_df = df.loc[df['Class'] == 'NO']\n",
    "no = no_df['Case No'].count()\n",
    "\n",
    "# Percentages\n",
    "# Formatted once put into the table\n",
    "yes_percent = (yes / participants)\n",
    "no_percent = (no / participants)"
   ]
  },
  {
   "cell_type": "code",
   "execution_count": null,
   "metadata": {},
   "outputs": [],
   "source": [
    "# Create dataframe with values found\n",
    "\n",
    "table_df = pd.DataFrame([{\"Total Participants\": participants,\n",
    "                          \"Min Age\": min_age,\n",
    "                          \"Max Age\": max_age,\n",
    "                          \"Avg Age (median)\": median_age,\n",
    "                          \"Men\": men,\n",
    "                          \"Women\": women,\n",
    "                          \"Percent with Autism\": yes_percent,\n",
    "                          \"Without Autism\": no_percent}])\n",
    "\n",
    "\n",
    "# Format percentages\n",
    "table_df[\"Percent with Autism\"] = table_df[\"Percent with Autism\"].map(\"{:,.2%}\".format)\n",
    "table_df[\"Without Autism\"] = table_df[\"Without Autism\"].map(\"{:,.2%}\".format)\n",
    "\n",
    "table_df"
   ]
  },
  {
   "cell_type": "code",
   "execution_count": null,
   "metadata": {},
   "outputs": [],
   "source": [
    "# Rename the index\n",
    "table_df = table_df.rename(index={0:'Participant Breakdown'})\n",
    "table_df"
   ]
  },
  {
   "cell_type": "code",
   "execution_count": null,
   "metadata": {},
   "outputs": [],
   "source": [
    "# Transpose the dataframe for easier reading\n",
    "table = table_df.T\n",
    "table"
   ]
  },
  {
   "cell_type": "code",
   "execution_count": null,
   "metadata": {},
   "outputs": [],
   "source": [
    "# Save table to html so that we can put it into the webpage\n",
    "table.to_html(\"../Resources/QuickStatsTable.html\")"
   ]
  },
  {
   "cell_type": "markdown",
   "metadata": {},
   "source": [
    "### OBSERVATIONS\n",
    "Not much here for observations.  Table creation is just to give a quick overview of the data we're working with.  To be put into our webpage."
   ]
  },
  {
   "cell_type": "markdown",
   "metadata": {},
   "source": [
    "# Age Distribution"
   ]
  },
  {
   "cell_type": "code",
   "execution_count": null,
   "metadata": {},
   "outputs": [],
   "source": [
    "# Define max and min ages in order to set the x-axis limits\n",
    "age_min = df['Age'].min()\n",
    "age_max = df['Age'].max()\n",
    "print(f\"The minimum age is: {age_min}\")\n",
    "print(f\"The maximum age is: {age_max}\")"
   ]
  },
  {
   "cell_type": "code",
   "execution_count": null,
   "metadata": {},
   "outputs": [],
   "source": [
    "# Plot age distribution using seaborn distplot\n",
    "\n",
    "# Set parameters\n",
    "plt.figure(figsize=(15,6))\n",
    "x = df['Age']\n",
    "sns.set_style(\"darkgrid\")\n",
    "ax = sns.distplot(x, \n",
    "                  kde_kws={\"color\": \"white\", \"lw\": 3, \n",
    "                           \"label\": \"Kernel Density Estimate\"},\n",
    "                  hist_kws={\"alpha\": .9, \"color\": \"navy\"})\n",
    "\n",
    "# Format labeling\n",
    "ax.set_title('Age Distribution of Participants', fontsize=20)\n",
    "ax.set_xlim(age_min - 10, age_max + 3)\n",
    "ax.set_xlabel('Age',fontsize=15)\n",
    "\n",
    "# Save figure\n",
    "plt.savefig(os.path.join(\"..\", \"Images\", \"AgeDistribution.png\"))"
   ]
  },
  {
   "cell_type": "markdown",
   "metadata": {},
   "source": [
    "### OBSERVATIONS\n",
    "\n",
    "The age of participants is not noramlly distributed.  It is right-skewed, meaning the tail of the distribution is longer on the right-side than the left-side. Going back to the correlation map, all correlations to Age range from -0.073 to 0.08.\n",
    "      \n",
    "Due to the age not being normally distributed, we might be losing subtle changes.  But if there were a high correlation, it would show regardless.  Even if we don't have as many datapoints in the higher age range, the correlation would still appear.  Ultimately, we might be losing subltle differences here."
   ]
  }
 ],
 "metadata": {
  "kernelspec": {
   "display_name": "Python 3",
   "language": "python",
   "name": "python3"
  },
  "language_info": {
   "codemirror_mode": {
    "name": "ipython",
    "version": 3
   },
   "file_extension": ".py",
   "mimetype": "text/x-python",
   "name": "python",
   "nbconvert_exporter": "python",
   "pygments_lexer": "ipython3",
   "version": "3.7.4"
  }
 },
 "nbformat": 4,
 "nbformat_minor": 2
}
