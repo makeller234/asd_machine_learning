{
 "cells": [
  {
   "cell_type": "code",
   "execution_count": null,
   "metadata": {},
   "outputs": [],
   "source": [
    "# Import dependencies\n",
    "import pandas as pd\n",
    "import numpy as np\n",
    "import matplotlib.pyplot as plt\n",
    "import seaborn as sns\n",
    "%matplotlib inline\n",
    "import os"
   ]
  },
  {
   "cell_type": "code",
   "execution_count": null,
   "metadata": {},
   "outputs": [],
   "source": [
    "# Read in the csv\n",
    "df = pd.read_csv(\"../Resources/Autism.csv\")\n",
    "\n",
    "# Drop the null columns where all values are null\n",
    "df = df.dropna(axis='columns', how='all')\n",
    "\n",
    "# Drop the null rows\n",
    "df = df.dropna()\n",
    "\n",
    "# Be able to view all columns\n",
    "pd.set_option('display.max_columns', None)\n",
    "\n",
    "print(df.shape)\n",
    "df.head()"
   ]
  },
  {
   "cell_type": "code",
   "execution_count": null,
   "metadata": {},
   "outputs": [],
   "source": [
    "# Nix columns I don't want as a part of the heat map\n",
    "df = df.drop(columns=['Case No', 'Sex', 'Ethnicity', 'Jaundice ', 'Family_ASD', 'Residence', 'Used_App_Before',\n",
    "                      'Screening Type', 'Language', 'User', 'Score'])\n",
    "df.head()"
   ]
  },
  {
   "cell_type": "code",
   "execution_count": null,
   "metadata": {},
   "outputs": [],
   "source": [
    "# Need to make 'Class' column binary\n",
    "df = pd.get_dummies(df)\n",
    "\n",
    "# Since there are only two possible labels, drop either one\n",
    "df = df.drop(columns=['Class_NO'])\n",
    "df.head()"
   ]
  },
  {
   "cell_type": "code",
   "execution_count": null,
   "metadata": {},
   "outputs": [],
   "source": [
    "# Make the heatmap\n",
    "\n",
    "corrmat = df.corr()\n",
    "top_corr_features = corrmat.index\n",
    "plt.figure(figsize=(20,12))\n",
    "\n",
    "ax=sns.heatmap(df[top_corr_features].corr(),annot=True, cmap=\"plasma_r\", linewidths=.1,\n",
    "              linecolor='black')\n",
    "ax.set_ylim(0, 12)\n",
    "\n",
    "# Save image\n",
    "plt.savefig(os.path.join(\"..\", \"Images\", \"HeatMap.png\"))\n",
    "\n",
    "# Colors I like:\n",
    "# plasma_r, spring_r, tab10, viridis_r"
   ]
  },
  {
   "cell_type": "markdown",
   "metadata": {},
   "source": [
    "## Observations\n",
    "--------\n",
    "\n",
    "One thing we can do with a heatmap is to compare inputs.  For example, questions A9 and A6 correlate similarly to 'Class_YES', at 0.6 and 0.62.  But if we compare questions A9 and A6 to *each other,* they have a weak correlation of 0.45.  This means that they're, stastically speaking, likely independent variables and we want to keep *both* of them as inputs.  All of the AQ-10 questions are weak classifiers, but together they're strong.\n",
    "\n",
    "All of the AQ-10 question correlations to 'Class_YES fall between 0.29 and 0.62.  Again, this speaks to being weak classifiers on their own, but strong classifiers as a whole.\n",
    "\n",
    "Going along the same lines, let's look at age.  Age appears to be a weak classifier.  But looking at feature importance weights, age did rank in the top 11 with the 10 questions plus score.  But removing it from the inputs only had minimal impact on the score.  So maybe even though it weighted at a similar correlation to say question 8, perhaps it's how all the questions correlate *together*.\n",
    "\n",
    "There are three negative classifiers (Age and A1, A2 and A7, Age and A8).  This correlations are small, the largest being abs(-.073).  Negative correlation would just mean, for example, with Age and A1.  If someone answered '0' for A1, as the age increased, they might be more likely to answer with a 1.  But again, very small correlation, nothing to spend much time on."
   ]
  },
  {
   "cell_type": "code",
   "execution_count": null,
   "metadata": {},
   "outputs": [],
   "source": []
  }
 ],
 "metadata": {
  "kernelspec": {
   "display_name": "Python 3",
   "language": "python",
   "name": "python3"
  },
  "language_info": {
   "codemirror_mode": {
    "name": "ipython",
    "version": 3
   },
   "file_extension": ".py",
   "mimetype": "text/x-python",
   "name": "python",
   "nbconvert_exporter": "python",
   "pygments_lexer": "ipython3",
   "version": "3.7.4"
  }
 },
 "nbformat": 4,
 "nbformat_minor": 2
}
