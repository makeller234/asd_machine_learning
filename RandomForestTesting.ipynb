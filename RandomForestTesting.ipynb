{
 "cells": [
  {
   "cell_type": "code",
   "execution_count": 31,
   "metadata": {},
   "outputs": [],
   "source": [
    "from sklearn.ensemble import RandomForestClassifier\n",
    "import pandas as pd\n",
    "import numpy as np\n",
    "import os"
   ]
  },
  {
   "cell_type": "code",
   "execution_count": 32,
   "metadata": {},
   "outputs": [
    {
     "data": {
      "text/html": [
       "<div>\n",
       "<style scoped>\n",
       "    .dataframe tbody tr th:only-of-type {\n",
       "        vertical-align: middle;\n",
       "    }\n",
       "\n",
       "    .dataframe tbody tr th {\n",
       "        vertical-align: top;\n",
       "    }\n",
       "\n",
       "    .dataframe thead th {\n",
       "        text-align: right;\n",
       "    }\n",
       "</style>\n",
       "<table border=\"1\" class=\"dataframe\">\n",
       "  <thead>\n",
       "    <tr style=\"text-align: right;\">\n",
       "      <th></th>\n",
       "      <th>Case No</th>\n",
       "      <th>A1</th>\n",
       "      <th>A2</th>\n",
       "      <th>A3</th>\n",
       "      <th>A4</th>\n",
       "      <th>A5</th>\n",
       "      <th>A6</th>\n",
       "      <th>A7</th>\n",
       "      <th>A8</th>\n",
       "      <th>A9</th>\n",
       "      <th>A10</th>\n",
       "      <th>Age</th>\n",
       "      <th>Sex</th>\n",
       "      <th>Ethnicity</th>\n",
       "      <th>Jaundice</th>\n",
       "      <th>Family_ASD</th>\n",
       "      <th>Residence</th>\n",
       "      <th>Used_App_Before</th>\n",
       "      <th>Score</th>\n",
       "      <th>Screening Type</th>\n",
       "      <th>Language</th>\n",
       "      <th>User</th>\n",
       "      <th>Class</th>\n",
       "    </tr>\n",
       "  </thead>\n",
       "  <tbody>\n",
       "    <tr>\n",
       "      <th>0</th>\n",
       "      <td>6</td>\n",
       "      <td>0</td>\n",
       "      <td>0</td>\n",
       "      <td>0</td>\n",
       "      <td>0</td>\n",
       "      <td>0</td>\n",
       "      <td>0</td>\n",
       "      <td>0</td>\n",
       "      <td>0</td>\n",
       "      <td>0</td>\n",
       "      <td>0</td>\n",
       "      <td>27</td>\n",
       "      <td>f</td>\n",
       "      <td>white</td>\n",
       "      <td>no</td>\n",
       "      <td>no</td>\n",
       "      <td>Russia</td>\n",
       "      <td>no</td>\n",
       "      <td>0</td>\n",
       "      <td>17 and more</td>\n",
       "      <td>russian</td>\n",
       "      <td>parent</td>\n",
       "      <td>NO</td>\n",
       "    </tr>\n",
       "    <tr>\n",
       "      <th>1</th>\n",
       "      <td>10</td>\n",
       "      <td>1</td>\n",
       "      <td>1</td>\n",
       "      <td>1</td>\n",
       "      <td>1</td>\n",
       "      <td>1</td>\n",
       "      <td>1</td>\n",
       "      <td>1</td>\n",
       "      <td>1</td>\n",
       "      <td>1</td>\n",
       "      <td>1</td>\n",
       "      <td>21</td>\n",
       "      <td>f</td>\n",
       "      <td>white</td>\n",
       "      <td>no</td>\n",
       "      <td>no</td>\n",
       "      <td>Germany</td>\n",
       "      <td>no</td>\n",
       "      <td>10</td>\n",
       "      <td>17 and more</td>\n",
       "      <td>english</td>\n",
       "      <td>self</td>\n",
       "      <td>YES</td>\n",
       "    </tr>\n",
       "    <tr>\n",
       "      <th>2</th>\n",
       "      <td>12</td>\n",
       "      <td>1</td>\n",
       "      <td>1</td>\n",
       "      <td>0</td>\n",
       "      <td>1</td>\n",
       "      <td>1</td>\n",
       "      <td>0</td>\n",
       "      <td>0</td>\n",
       "      <td>1</td>\n",
       "      <td>0</td>\n",
       "      <td>0</td>\n",
       "      <td>18</td>\n",
       "      <td>m</td>\n",
       "      <td>black</td>\n",
       "      <td>no</td>\n",
       "      <td>no</td>\n",
       "      <td>United States</td>\n",
       "      <td>no</td>\n",
       "      <td>5</td>\n",
       "      <td>17 and more</td>\n",
       "      <td>english</td>\n",
       "      <td>self</td>\n",
       "      <td>NO</td>\n",
       "    </tr>\n",
       "    <tr>\n",
       "      <th>3</th>\n",
       "      <td>16</td>\n",
       "      <td>1</td>\n",
       "      <td>0</td>\n",
       "      <td>0</td>\n",
       "      <td>0</td>\n",
       "      <td>1</td>\n",
       "      <td>1</td>\n",
       "      <td>1</td>\n",
       "      <td>1</td>\n",
       "      <td>1</td>\n",
       "      <td>1</td>\n",
       "      <td>49</td>\n",
       "      <td>m</td>\n",
       "      <td>black</td>\n",
       "      <td>no</td>\n",
       "      <td>no</td>\n",
       "      <td>Mexico</td>\n",
       "      <td>no</td>\n",
       "      <td>7</td>\n",
       "      <td>17 and more</td>\n",
       "      <td>french</td>\n",
       "      <td>self</td>\n",
       "      <td>YES</td>\n",
       "    </tr>\n",
       "    <tr>\n",
       "      <th>4</th>\n",
       "      <td>20</td>\n",
       "      <td>1</td>\n",
       "      <td>1</td>\n",
       "      <td>1</td>\n",
       "      <td>0</td>\n",
       "      <td>0</td>\n",
       "      <td>0</td>\n",
       "      <td>0</td>\n",
       "      <td>1</td>\n",
       "      <td>0</td>\n",
       "      <td>0</td>\n",
       "      <td>18</td>\n",
       "      <td>m</td>\n",
       "      <td>aboriginal</td>\n",
       "      <td>no</td>\n",
       "      <td>no</td>\n",
       "      <td>Indonesia</td>\n",
       "      <td>no</td>\n",
       "      <td>4</td>\n",
       "      <td>17 and more</td>\n",
       "      <td>english</td>\n",
       "      <td>self</td>\n",
       "      <td>NO</td>\n",
       "    </tr>\n",
       "  </tbody>\n",
       "</table>\n",
       "</div>"
      ],
      "text/plain": [
       "   Case No  A1  A2  A3  A4  A5  A6  A7  A8  A9  A10  Age Sex   Ethnicity  \\\n",
       "0        6   0   0   0   0   0   0   0   0   0    0   27   f       white   \n",
       "1       10   1   1   1   1   1   1   1   1   1    1   21   f       white   \n",
       "2       12   1   1   0   1   1   0   0   1   0    0   18   m       black   \n",
       "3       16   1   0   0   0   1   1   1   1   1    1   49   m       black   \n",
       "4       20   1   1   1   0   0   0   0   1   0    0   18   m  aboriginal   \n",
       "\n",
       "  Jaundice  Family_ASD      Residence Used_App_Before  Score Screening Type  \\\n",
       "0        no         no         Russia              no      0    17 and more   \n",
       "1        no         no        Germany              no     10    17 and more   \n",
       "2        no         no  United States              no      5    17 and more   \n",
       "3        no         no         Mexico              no      7    17 and more   \n",
       "4        no         no      Indonesia              no      4    17 and more   \n",
       "\n",
       "  Language    User Class  \n",
       "0  russian  parent    NO  \n",
       "1  english    self   YES  \n",
       "2  english    self    NO  \n",
       "3   french    self   YES  \n",
       "4  english    self    NO  "
      ]
     },
     "execution_count": 32,
     "metadata": {},
     "output_type": "execute_result"
    }
   ],
   "source": [
    "file = os.path.join(\"Autism_Data_Adult_Version-2.csv\")\n",
    "asdDF = pd.read_csv(file)\n",
    "pd.set_option('display.max_columns', None)\n",
    "asdDF.head()"
   ]
  },
  {
   "cell_type": "code",
   "execution_count": 3,
   "metadata": {},
   "outputs": [],
   "source": [
    "# X = asdDF[[\"A1\", \"A2\", \"A3\",\"A4\",\"A5\", \"A6\", \"A7\", \"A8\", \"A9\", \"A10\", \"Score\"]]\n",
    "X = asdDF[[\"A1\", \"A2\", \"A3\",\"A4\",\"A5\", \"A6\", \"A7\", \"A8\", \"A9\", \"A10\"]]\n",
    "y = asdDF[\"Class\"]"
   ]
  },
  {
   "cell_type": "code",
   "execution_count": 4,
   "metadata": {},
   "outputs": [],
   "source": [
    "from sklearn.model_selection import train_test_split\n",
    "\n",
    "# X = pd.get_dummies(X)\n",
    "\n",
    "X_train, X_test, y_train, y_test = train_test_split(X, y)"
   ]
  },
  {
   "cell_type": "code",
   "execution_count": 5,
   "metadata": {},
   "outputs": [
    {
     "data": {
      "text/plain": [
       "0.9607142857142857"
      ]
     },
     "execution_count": 5,
     "metadata": {},
     "output_type": "execute_result"
    }
   ],
   "source": [
    "from sklearn import tree\n",
    "clf = tree.DecisionTreeClassifier()\n",
    "clf = clf.fit(X_train, y_train)\n",
    "clf.score(X_test, y_test)\n"
   ]
  },
  {
   "cell_type": "code",
   "execution_count": 6,
   "metadata": {},
   "outputs": [
    {
     "name": "stdout",
     "output_type": "stream",
     "text": [
      "Training Score: 1.0\n",
      "Testing Score: 0.9785714285714285\n"
     ]
    }
   ],
   "source": [
    "rf = RandomForestClassifier(n_estimators=200)\n",
    "rf = rf.fit(X_train, y_train)\n",
    "rf_train_score = rf.score(X_train, y_train)\n",
    "rf_test_score = rf.score(X_test, y_test)\n",
    "print(f'Training Score: {rf_train_score}')\n",
    "print(f'Testing Score: {rf_test_score}')"
   ]
  },
  {
   "cell_type": "code",
   "execution_count": 7,
   "metadata": {},
   "outputs": [
    {
     "data": {
      "text/plain": [
       "[(0.21804074920324557, 'A6'),\n",
       " (0.20434487373791035, 'A9'),\n",
       " (0.12782396188239903, 'A5'),\n",
       " (0.09069038738166957, 'A4'),\n",
       " (0.08966471841935622, 'A3'),\n",
       " (0.0823149931816415, 'A7'),\n",
       " (0.054225187696824544, 'A1'),\n",
       " (0.04725834097701985, 'A8'),\n",
       " (0.04589700100810901, 'A2'),\n",
       " (0.03973978651182444, 'A10')]"
      ]
     },
     "execution_count": 7,
     "metadata": {},
     "output_type": "execute_result"
    }
   ],
   "source": [
    "importances = rf.feature_importances_\n",
    "sorted(zip(rf.feature_importances_, X), reverse=True)"
   ]
  },
  {
   "cell_type": "code",
   "execution_count": 8,
   "metadata": {},
   "outputs": [],
   "source": [
    "#prediciton testing for usering input. \n",
    "testing1 = 1\n",
    "testing2 = 1\n",
    "testing3 = 1\n",
    "testing4 = 1\n",
    "testing5 = 1\n",
    "testing6 = 0\n",
    "testing7 = 0\n",
    "testing8 = 0\n",
    "testing9 = 0\n",
    "testing10 = 0\n",
    "\n",
    "user_test = np.array([testing1, testing2, testing3, testing4, testing5, testing6, testing7, testing8, testing9, testing10])\n",
    "user_test = np.reshape(user_test, (-1,user_test.size))"
   ]
  },
  {
   "cell_type": "code",
   "execution_count": 9,
   "metadata": {},
   "outputs": [
    {
     "data": {
      "text/plain": [
       "'NO'"
      ]
     },
     "execution_count": 9,
     "metadata": {},
     "output_type": "execute_result"
    }
   ],
   "source": [
    "# output of prediciton test based on value/response to the variables testing1-testing10\n",
    "test = rf.predict(user_test)\n",
    "test[0]"
   ]
  },
  {
   "cell_type": "code",
   "execution_count": 10,
   "metadata": {},
   "outputs": [],
   "source": [
    "from sklearn.metrics import confusion_matrix\n",
    "tn, fp, fn, tp = confusion_matrix(y_test, rf.predict(X_test)).ravel()"
   ]
  },
  {
   "cell_type": "code",
   "execution_count": 11,
   "metadata": {},
   "outputs": [
    {
     "data": {
      "text/plain": [
       "array([177,   2,   4,  97])"
      ]
     },
     "execution_count": 11,
     "metadata": {},
     "output_type": "execute_result"
    }
   ],
   "source": [
    "confusion_matrix(y_test, rf.predict(X_test)).ravel()"
   ]
  },
  {
   "cell_type": "code",
   "execution_count": 12,
   "metadata": {},
   "outputs": [],
   "source": [
    "X2 = asdDF[[\"A1\", \"A2\", \"A3\",\"A4\",\"A5\", \"A6\", \"A7\", \"A8\", \"A9\", \"A10\", \"Family_ASD\"]]\n",
    "y2 = asdDF[\"Class\"]\n",
    "\n",
    "X2 = pd.get_dummies(X2)"
   ]
  },
  {
   "cell_type": "code",
   "execution_count": 13,
   "metadata": {},
   "outputs": [],
   "source": [
    "X_train2, X_test2, y_train2, y_test2 = train_test_split(X2, y2)"
   ]
  },
  {
   "cell_type": "code",
   "execution_count": 14,
   "metadata": {},
   "outputs": [
    {
     "data": {
      "text/plain": [
       "0.95"
      ]
     },
     "execution_count": 14,
     "metadata": {},
     "output_type": "execute_result"
    }
   ],
   "source": [
    "clf2 = tree.DecisionTreeClassifier()\n",
    "clf2 = clf2.fit(X_train2, y_train2)\n",
    "clf2.score(X_test2, y_test2)"
   ]
  },
  {
   "cell_type": "code",
   "execution_count": 15,
   "metadata": {},
   "outputs": [
    {
     "name": "stdout",
     "output_type": "stream",
     "text": [
      "Training Score: 1.0\n",
      "Testing Score: 0.9892857142857143\n"
     ]
    }
   ],
   "source": [
    "rf2 = RandomForestClassifier(n_estimators=200)\n",
    "rf2 = rf.fit(X_train2, y_train2)\n",
    "rf_train_score2 = rf2.score(X_train2, y_train2)\n",
    "rf_test_score2 = rf2.score(X_test2, y_test2)\n",
    "print(f'Training Score: {rf_train_score2}')\n",
    "print(f'Testing Score: {rf_test_score2}')"
   ]
  },
  {
   "cell_type": "code",
   "execution_count": 16,
   "metadata": {},
   "outputs": [],
   "source": [
    "x_family = asdDF[\"Class\"]\n",
    "y_family = asdDF[\"Family_ASD\"]"
   ]
  },
  {
   "cell_type": "code",
   "execution_count": 17,
   "metadata": {},
   "outputs": [],
   "source": [
    "x_family = pd.get_dummies(x_family)"
   ]
  },
  {
   "cell_type": "code",
   "execution_count": 18,
   "metadata": {},
   "outputs": [],
   "source": [
    "X_train_family, X_test_family, y_train_family, y_test_family = train_test_split(x_family, y_family)"
   ]
  },
  {
   "cell_type": "code",
   "execution_count": 19,
   "metadata": {},
   "outputs": [
    {
     "data": {
      "text/plain": [
       "0.8428571428571429"
      ]
     },
     "execution_count": 19,
     "metadata": {},
     "output_type": "execute_result"
    }
   ],
   "source": [
    "clf_family = tree.DecisionTreeClassifier()\n",
    "clf_family = clf_family.fit(X_train_family, y_train_family)\n",
    "clf_family.score(X_test_family, y_test_family)"
   ]
  },
  {
   "cell_type": "code",
   "execution_count": 20,
   "metadata": {},
   "outputs": [
    {
     "name": "stdout",
     "output_type": "stream",
     "text": [
      "Training Score: 0.834128878281623\n",
      "Testing Score: 0.8428571428571429\n"
     ]
    }
   ],
   "source": [
    "rf_family = RandomForestClassifier(n_estimators=200)\n",
    "rf_family = rf_family.fit(X_train_family, y_train_family)\n",
    "rf_train_score_family = rf_family.score(X_train_family, y_train_family)\n",
    "rf_test_score_family = rf_family.score(X_test_family, y_test_family)\n",
    "print(f'Training Score: {rf_train_score_family}')\n",
    "print(f'Testing Score: {rf_test_score_family}')"
   ]
  },
  {
   "cell_type": "code",
   "execution_count": 33,
   "metadata": {},
   "outputs": [],
   "source": [
    "X_all = asdDF.drop([\"Class\", \"Case No\", \"Score\"], axis = 1)\n",
    "y_all = asdDF[\"Class\"]"
   ]
  },
  {
   "cell_type": "code",
   "execution_count": 34,
   "metadata": {},
   "outputs": [],
   "source": [
    "X_all = pd.get_dummies(X_all)"
   ]
  },
  {
   "cell_type": "code",
   "execution_count": 35,
   "metadata": {},
   "outputs": [],
   "source": [
    "X_train_all, X_test_all, y_train_all, y_test_all = train_test_split(X_all, y_all)"
   ]
  },
  {
   "cell_type": "code",
   "execution_count": 36,
   "metadata": {},
   "outputs": [
    {
     "data": {
      "text/plain": [
       "0.9107142857142857"
      ]
     },
     "execution_count": 36,
     "metadata": {},
     "output_type": "execute_result"
    }
   ],
   "source": [
    "clf_all = tree.DecisionTreeClassifier()\n",
    "clf_all = clf_all.fit(X_train_all, y_train_all)\n",
    "clf_all.score(X_test_all, y_test_all)"
   ]
  },
  {
   "cell_type": "code",
   "execution_count": 37,
   "metadata": {},
   "outputs": [
    {
     "name": "stdout",
     "output_type": "stream",
     "text": [
      "Training Score of all Data: 1.0\n",
      "Testing Score of all Data: 0.9642857142857143\n"
     ]
    }
   ],
   "source": [
    "rf_all = RandomForestClassifier(n_estimators=200)\n",
    "rf_all = rf_all.fit(X_train_all, y_train_all)\n",
    "rf_train_all_score = rf_all.score(X_train_all, y_train_all)\n",
    "rf_test_all_score = rf_all.score(X_test_all, y_test_all)\n",
    "print(f'Training Score of all Data: {rf_train_all_score}')\n",
    "print(f'Testing Score of all Data: {rf_test_all_score}')"
   ]
  },
  {
   "cell_type": "code",
   "execution_count": 38,
   "metadata": {
    "scrolled": true
   },
   "outputs": [],
   "source": [
    "importances = rf_all.feature_importances_"
   ]
  },
  {
   "cell_type": "code",
   "execution_count": 39,
   "metadata": {},
   "outputs": [
    {
     "data": {
      "text/plain": [
       "[(0.1375982388338484, 'A6'),\n",
       " (0.12440343186820017, 'A5'),\n",
       " (0.12161294417212369, 'A9'),\n",
       " (0.0705948054354622, 'A4'),\n",
       " (0.0660837080729453, 'A3'),\n",
       " (0.0519123599565527, 'A7'),\n",
       " (0.04703878931285275, 'Age'),\n",
       " (0.04561676106697127, 'A10'),\n",
       " (0.040508809913970746, 'A2'),\n",
       " (0.030821179156523628, 'A1'),\n",
       " (0.028981112201731704, 'A8'),\n",
       " (0.017774002000589578, 'Ethnicity_white'),\n",
       " (0.013520356459176855, 'Residence_United States'),\n",
       " (0.011404511277665376, 'Ethnicity_middle eastern'),\n",
       " (0.009947890087110178, 'Sex_m'),\n",
       " (0.009740718056669853, 'Residence_United Kingdom'),\n",
       " (0.009034271628414454, 'Sex_f'),\n",
       " (0.008950917022381788, 'Residence_India'),\n",
       " (0.00826452050701062, 'Family_ASD_no'),\n",
       " (0.007918108749503614, 'Family_ASD_yes'),\n",
       " (0.007518137337902175, 'Ethnicity_asian'),\n",
       " (0.0064797613297955135, 'User_self'),\n",
       " (0.006270611958500334, 'Residence_New Zealand'),\n",
       " (0.005894673545946679, 'Residence_United Arab Emirates'),\n",
       " (0.005637039181441041, 'Language_english'),\n",
       " (0.0055442793374612205, 'Jaundice _no'),\n",
       " (0.005118746287763619, 'User_parent'),\n",
       " (0.004774324802094445, 'Ethnicity_black'),\n",
       " (0.004455085604350474, 'Jaundice _yes'),\n",
       " (0.004152447226843452, 'Language_arabic'),\n",
       " (0.004053575299149996, 'Ethnicity_latino'),\n",
       " (0.0033983164740164526, 'Language_spanish'),\n",
       " (0.0031499150635834264, 'Residence_Australia'),\n",
       " (0.0029817570288595647, 'Used_App_Before_yes'),\n",
       " (0.002950225005507416, 'Residence_Canada'),\n",
       " (0.0029038803425435675, 'User_relative'),\n",
       " (0.0028880919534893116, 'Residence_Jordan'),\n",
       " (0.0028839425756442293, 'Used_App_Before_no'),\n",
       " (0.0027328622134479923, 'Residence_Malaysia'),\n",
       " (0.0026798850388087673, 'Ethnicity_hispanic'),\n",
       " (0.0026256273219879894, 'Ethnicity_south asians'),\n",
       " (0.0024190422425551306, 'Ethnicity_others '),\n",
       " (0.0022833779304339947, 'Residence_Belgium'),\n",
       " (0.0022567975415615023, 'Residence_Sweden'),\n",
       " (0.002181685607868616, 'Residence_Austria'),\n",
       " (0.0020835234265388297, 'Language_french'),\n",
       " (0.001698409452581751, 'Language_portuguese'),\n",
       " (0.001675820073722024, 'Residence_France'),\n",
       " (0.0016453249627860732, 'Residence_Afghanistan'),\n",
       " (0.0015991098882714176, 'Residence_Brazil'),\n",
       " (0.0013769225497472241, 'Residence_Sri Lanka'),\n",
       " (0.0013224671264924217, 'Residence_Russia'),\n",
       " (0.0012082934028019507, 'Residence_Netherlands'),\n",
       " (0.0011714736756944213, 'Residence_Italy'),\n",
       " (0.0011653926010875791, 'Residence_Indonesia'),\n",
       " (0.0011653301084586314, 'Residence_Mexico'),\n",
       " (0.0011361468850324373, 'Residence_Norway'),\n",
       " (0.0011148642607592071, 'Residence_Pakistan'),\n",
       " (0.0010755995268417558, 'User_others'),\n",
       " (0.0010582668569153232, 'Residence_Bangladesh'),\n",
       " (0.0010430857718489591, 'Residence_Viet Nam'),\n",
       " (0.0009862996940692846, 'Residence_Finland'),\n",
       " (0.0008816808227654992, 'Residence_Philippines'),\n",
       " (0.00087191143217957, 'Language_russian'),\n",
       " (0.0008525242949318052, 'User_health care professional'),\n",
       " (0.0008194467072662261, 'Residence_Nepal'),\n",
       " (0.000818699632335318, 'Language_farsi'),\n",
       " (0.0008105082810029612, 'Language_urdu'),\n",
       " (0.0007917471407216746, 'Residence_Poland'),\n",
       " (0.0007509922515314204, 'Residence_AmericanSamoa'),\n",
       " (0.0006922227152862914, 'Ethnicity_aboriginal'),\n",
       " (0.0006799336460111234, 'Residence_South Africa'),\n",
       " (0.0006045845210734348, 'Language_mandarin'),\n",
       " (0.0005897005261009004, 'Residence_Iran'),\n",
       " (0.0005090600956485067, 'Residence_Argentina'),\n",
       " (0.0004757290085074727, 'Residence_Ecuador'),\n",
       " (0.00047235582585841924, 'Residence_Bahamas'),\n",
       " (0.00045431686808812164, 'Residence_Hong Kong'),\n",
       " (0.00042398041402698724, 'Residence_Antigua and Barbuda'),\n",
       " (0.0004162372209800923, 'Residence_Qatar'),\n",
       " (0.0004161201059283951, 'Residence_Germany'),\n",
       " (0.0004034670300006435, 'Residence_Lebanon'),\n",
       " (0.0004021215404577263, 'Residence_Czech Republic'),\n",
       " (0.0003946269533100591, 'Residence_Singapore'),\n",
       " (0.00034494941460427083, 'Residence_Denmark'),\n",
       " (0.00033371549542402017, 'Residence_Romania'),\n",
       " (0.00029145841676868074, 'Residence_Cyprus'),\n",
       " (0.0002884428647624045, 'Residence_Ireland'),\n",
       " (0.00024476819140044077, 'Residence_Spain'),\n",
       " (0.0002446700953993079, 'Residence_Costa Rica'),\n",
       " (0.000219002254651365, 'Residence_Angola'),\n",
       " (0.0002075471534818831, 'Residence_Niger'),\n",
       " (0.00018054898247603417, 'Residence_Honduras'),\n",
       " (0.0001516761395541662, 'Residence_Azerbaijan'),\n",
       " (0.00015033064499684001, 'Residence_Iceland'),\n",
       " (0.00013383478043823362, 'Residence_Switzerland'),\n",
       " (0.00013208824398360953, 'Residence_Peru'),\n",
       " (0.00012074346091410852, 'Residence_Saudi Arabia'),\n",
       " (0.00011423757751137355, 'Residence_Virgin Islands, U.S.'),\n",
       " (0.00010381385662597563, 'Residence_Kazakhstan'),\n",
       " (9.494664024012273e-05, 'Residence_Djibouti'),\n",
       " (7.83666795640716e-05, 'Residence_Ukraine'),\n",
       " (7.764199646846544e-05, 'Residence_Serbia'),\n",
       " (6.142926625107307e-05, 'Residence_Zambia'),\n",
       " (5.8922619696673516e-05, 'Residence_Nicaragua'),\n",
       " (5.299272593969281e-05, 'Residence_China'),\n",
       " (4.795107241344413e-05, 'Residence_Iran, Islamic Republic of'),\n",
       " (3.8090376340568954e-05, 'Residence_Japan'),\n",
       " (3.511325991622581e-05, 'Residence_Chile'),\n",
       " (3.370191479345878e-05, 'Residence_Uruguay'),\n",
       " (2.091043073188091e-05, 'Residence_Burundi'),\n",
       " (2.050096806706867e-05, 'Residence_Armenia'),\n",
       " (1.8797388977325406e-05, 'Residence_Turkey'),\n",
       " (1.873365196195169e-05, 'Residence_Ethiopia'),\n",
       " (1.786173162292129e-05, 'User_friend'),\n",
       " (1.6150409879283837e-05, 'Residence_Turkmenistan'),\n",
       " (1.3391983188107032e-05, 'User_teacher'),\n",
       " (1.2555753949837926e-05, 'Residence_Egypt'),\n",
       " (2.92228081421511e-07, 'Residence_Portugal'),\n",
       " (0.0, 'Screening Type_17 and more'),\n",
       " (0.0, 'Residence_Tonga'),\n",
       " (0.0, 'Residence_Thailand'),\n",
       " (0.0, 'Residence_Taiwan'),\n",
       " (0.0, 'Residence_Sierra Leone'),\n",
       " (0.0, 'Residence_Saint Kitts and Nevis'),\n",
       " (0.0, 'Residence_Oman'),\n",
       " (0.0, 'Residence_Iraq'),\n",
       " (0.0, 'Residence_Hungary'),\n",
       " (0.0, 'Residence_French Guiana'),\n",
       " (0.0, 'Residence_Croatia'),\n",
       " (0.0, 'Residence_Bolivia'),\n",
       " (0.0, 'Residence_Bahrain'),\n",
       " (0.0, 'Residence_Aruba'),\n",
       " (0.0, 'Language_turkish'),\n",
       " (0.0, 'Language_swahili')]"
      ]
     },
     "execution_count": 39,
     "metadata": {},
     "output_type": "execute_result"
    }
   ],
   "source": [
    "sorted(zip(rf_all.feature_importances_, X_all), reverse=True)"
   ]
  },
  {
   "cell_type": "code",
   "execution_count": null,
   "metadata": {},
   "outputs": [],
   "source": []
  }
 ],
 "metadata": {
  "kernelspec": {
   "display_name": "Python 3",
   "language": "python",
   "name": "python3"
  },
  "language_info": {
   "codemirror_mode": {
    "name": "ipython",
    "version": 3
   },
   "file_extension": ".py",
   "mimetype": "text/x-python",
   "name": "python",
   "nbconvert_exporter": "python",
   "pygments_lexer": "ipython3",
   "version": "3.6.9"
  }
 },
 "nbformat": 4,
 "nbformat_minor": 2
}
