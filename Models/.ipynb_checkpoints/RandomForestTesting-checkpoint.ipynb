{
 "cells": [
  {
   "cell_type": "code",
   "execution_count": 1,
   "metadata": {},
   "outputs": [],
   "source": [
    "from sklearn.ensemble import RandomForestClassifier\n",
    "import pandas as pd\n",
    "import numpy as np\n",
    "import os"
   ]
  },
  {
   "cell_type": "code",
   "execution_count": 2,
   "metadata": {},
   "outputs": [
    {
     "data": {
      "text/html": [
       "<div>\n",
       "<style scoped>\n",
       "    .dataframe tbody tr th:only-of-type {\n",
       "        vertical-align: middle;\n",
       "    }\n",
       "\n",
       "    .dataframe tbody tr th {\n",
       "        vertical-align: top;\n",
       "    }\n",
       "\n",
       "    .dataframe thead th {\n",
       "        text-align: right;\n",
       "    }\n",
       "</style>\n",
       "<table border=\"1\" class=\"dataframe\">\n",
       "  <thead>\n",
       "    <tr style=\"text-align: right;\">\n",
       "      <th></th>\n",
       "      <th>Case No</th>\n",
       "      <th>A1</th>\n",
       "      <th>A2</th>\n",
       "      <th>A3</th>\n",
       "      <th>A4</th>\n",
       "      <th>A5</th>\n",
       "      <th>A6</th>\n",
       "      <th>A7</th>\n",
       "      <th>A8</th>\n",
       "      <th>A9</th>\n",
       "      <th>A10</th>\n",
       "      <th>Age</th>\n",
       "      <th>Sex</th>\n",
       "      <th>Ethnicity</th>\n",
       "      <th>Jaundice</th>\n",
       "      <th>Family_ASD</th>\n",
       "      <th>Residence</th>\n",
       "      <th>Used_App_Before</th>\n",
       "      <th>Score</th>\n",
       "      <th>Screening Type</th>\n",
       "      <th>Language</th>\n",
       "      <th>User</th>\n",
       "      <th>Class</th>\n",
       "    </tr>\n",
       "  </thead>\n",
       "  <tbody>\n",
       "    <tr>\n",
       "      <th>0</th>\n",
       "      <td>6</td>\n",
       "      <td>0</td>\n",
       "      <td>0</td>\n",
       "      <td>0</td>\n",
       "      <td>0</td>\n",
       "      <td>0</td>\n",
       "      <td>0</td>\n",
       "      <td>0</td>\n",
       "      <td>0</td>\n",
       "      <td>0</td>\n",
       "      <td>0</td>\n",
       "      <td>27</td>\n",
       "      <td>f</td>\n",
       "      <td>white</td>\n",
       "      <td>no</td>\n",
       "      <td>no</td>\n",
       "      <td>Russia</td>\n",
       "      <td>no</td>\n",
       "      <td>0</td>\n",
       "      <td>17 and more</td>\n",
       "      <td>russian</td>\n",
       "      <td>parent</td>\n",
       "      <td>NO</td>\n",
       "    </tr>\n",
       "    <tr>\n",
       "      <th>1</th>\n",
       "      <td>10</td>\n",
       "      <td>1</td>\n",
       "      <td>1</td>\n",
       "      <td>1</td>\n",
       "      <td>1</td>\n",
       "      <td>1</td>\n",
       "      <td>1</td>\n",
       "      <td>1</td>\n",
       "      <td>1</td>\n",
       "      <td>1</td>\n",
       "      <td>1</td>\n",
       "      <td>21</td>\n",
       "      <td>f</td>\n",
       "      <td>white</td>\n",
       "      <td>no</td>\n",
       "      <td>no</td>\n",
       "      <td>Germany</td>\n",
       "      <td>no</td>\n",
       "      <td>10</td>\n",
       "      <td>17 and more</td>\n",
       "      <td>english</td>\n",
       "      <td>self</td>\n",
       "      <td>YES</td>\n",
       "    </tr>\n",
       "    <tr>\n",
       "      <th>2</th>\n",
       "      <td>12</td>\n",
       "      <td>1</td>\n",
       "      <td>1</td>\n",
       "      <td>0</td>\n",
       "      <td>1</td>\n",
       "      <td>1</td>\n",
       "      <td>0</td>\n",
       "      <td>0</td>\n",
       "      <td>1</td>\n",
       "      <td>0</td>\n",
       "      <td>0</td>\n",
       "      <td>18</td>\n",
       "      <td>m</td>\n",
       "      <td>black</td>\n",
       "      <td>no</td>\n",
       "      <td>no</td>\n",
       "      <td>United States</td>\n",
       "      <td>no</td>\n",
       "      <td>5</td>\n",
       "      <td>17 and more</td>\n",
       "      <td>english</td>\n",
       "      <td>self</td>\n",
       "      <td>NO</td>\n",
       "    </tr>\n",
       "    <tr>\n",
       "      <th>3</th>\n",
       "      <td>16</td>\n",
       "      <td>1</td>\n",
       "      <td>0</td>\n",
       "      <td>0</td>\n",
       "      <td>0</td>\n",
       "      <td>1</td>\n",
       "      <td>1</td>\n",
       "      <td>1</td>\n",
       "      <td>1</td>\n",
       "      <td>1</td>\n",
       "      <td>1</td>\n",
       "      <td>49</td>\n",
       "      <td>m</td>\n",
       "      <td>black</td>\n",
       "      <td>no</td>\n",
       "      <td>no</td>\n",
       "      <td>Mexico</td>\n",
       "      <td>no</td>\n",
       "      <td>7</td>\n",
       "      <td>17 and more</td>\n",
       "      <td>french</td>\n",
       "      <td>self</td>\n",
       "      <td>YES</td>\n",
       "    </tr>\n",
       "    <tr>\n",
       "      <th>4</th>\n",
       "      <td>20</td>\n",
       "      <td>1</td>\n",
       "      <td>1</td>\n",
       "      <td>1</td>\n",
       "      <td>0</td>\n",
       "      <td>0</td>\n",
       "      <td>0</td>\n",
       "      <td>0</td>\n",
       "      <td>1</td>\n",
       "      <td>0</td>\n",
       "      <td>0</td>\n",
       "      <td>18</td>\n",
       "      <td>m</td>\n",
       "      <td>aboriginal</td>\n",
       "      <td>no</td>\n",
       "      <td>no</td>\n",
       "      <td>Indonesia</td>\n",
       "      <td>no</td>\n",
       "      <td>4</td>\n",
       "      <td>17 and more</td>\n",
       "      <td>english</td>\n",
       "      <td>self</td>\n",
       "      <td>NO</td>\n",
       "    </tr>\n",
       "  </tbody>\n",
       "</table>\n",
       "</div>"
      ],
      "text/plain": [
       "   Case No  A1  A2  A3  A4  A5  A6  A7  A8  A9  A10  Age Sex   Ethnicity  \\\n",
       "0        6   0   0   0   0   0   0   0   0   0    0   27   f       white   \n",
       "1       10   1   1   1   1   1   1   1   1   1    1   21   f       white   \n",
       "2       12   1   1   0   1   1   0   0   1   0    0   18   m       black   \n",
       "3       16   1   0   0   0   1   1   1   1   1    1   49   m       black   \n",
       "4       20   1   1   1   0   0   0   0   1   0    0   18   m  aboriginal   \n",
       "\n",
       "  Jaundice  Family_ASD      Residence Used_App_Before  Score Screening Type  \\\n",
       "0        no         no         Russia              no      0    17 and more   \n",
       "1        no         no        Germany              no     10    17 and more   \n",
       "2        no         no  United States              no      5    17 and more   \n",
       "3        no         no         Mexico              no      7    17 and more   \n",
       "4        no         no      Indonesia              no      4    17 and more   \n",
       "\n",
       "  Language    User Class  \n",
       "0  russian  parent    NO  \n",
       "1  english    self   YES  \n",
       "2  english    self    NO  \n",
       "3   french    self   YES  \n",
       "4  english    self    NO  "
      ]
     },
     "execution_count": 2,
     "metadata": {},
     "output_type": "execute_result"
    }
   ],
   "source": [
    "file = os.path.join(\"Resources/Autism.csv\")\n",
    "asdDF = pd.read_csv(file)\n",
    "pd.set_option('display.max_columns', None)\n",
    "asdDF.head()"
   ]
  },
  {
   "cell_type": "code",
   "execution_count": 3,
   "metadata": {},
   "outputs": [],
   "source": [
    "# X = asdDF[[\"A1\", \"A2\", \"A3\",\"A4\",\"A5\", \"A6\", \"A7\", \"A8\", \"A9\", \"A10\", \"Score\"]]\n",
    "X = asdDF[[\"A1\", \"A2\", \"A3\",\"A4\",\"A5\", \"A6\", \"A7\", \"A8\", \"A9\", \"A10\"]]\n",
    "y = asdDF[\"Class\"]"
   ]
  },
  {
   "cell_type": "code",
   "execution_count": 4,
   "metadata": {},
   "outputs": [],
   "source": [
    "from sklearn.model_selection import train_test_split\n",
    "\n",
    "# X = pd.get_dummies(X)\n",
    "\n",
    "X_train, X_test, y_train, y_test = train_test_split(X, y)"
   ]
  },
  {
   "cell_type": "code",
   "execution_count": 5,
   "metadata": {},
   "outputs": [
    {
     "data": {
      "text/plain": [
       "0.9357142857142857"
      ]
     },
     "execution_count": 5,
     "metadata": {},
     "output_type": "execute_result"
    }
   ],
   "source": [
    "from sklearn import tree\n",
    "clf = tree.DecisionTreeClassifier()\n",
    "clf = clf.fit(X_train, y_train)\n",
    "clf.score(X_test, y_test)\n"
   ]
  },
  {
   "cell_type": "code",
   "execution_count": 6,
   "metadata": {},
   "outputs": [
    {
     "name": "stdout",
     "output_type": "stream",
     "text": [
      "Training Score: 1.0\n",
      "Testing Score: 0.9714285714285714\n"
     ]
    }
   ],
   "source": [
    "rf = RandomForestClassifier(n_estimators=200)\n",
    "rf = rf.fit(X_train, y_train)\n",
    "rf_train_score = rf.score(X_train, y_train)\n",
    "rf_test_score = rf.score(X_test, y_test)\n",
    "print(f'Training Score: {rf_train_score}')\n",
    "print(f'Testing Score: {rf_test_score}')"
   ]
  },
  {
   "cell_type": "code",
   "execution_count": 7,
   "metadata": {},
   "outputs": [
    {
     "data": {
      "text/plain": [
       "[(0.20809789686837657, 'A6'),\n",
       " (0.17147320755493392, 'A9'),\n",
       " (0.15962148477617086, 'A5'),\n",
       " (0.09375149597321826, 'A3'),\n",
       " (0.08585125529489551, 'A4'),\n",
       " (0.07088115839248103, 'A7'),\n",
       " (0.06278323350140476, 'A1'),\n",
       " (0.05104214475787178, 'A10'),\n",
       " (0.050404984555068616, 'A2'),\n",
       " (0.04609313832557881, 'A8')]"
      ]
     },
     "execution_count": 7,
     "metadata": {},
     "output_type": "execute_result"
    }
   ],
   "source": [
    "importances = rf.feature_importances_\n",
    "sorted(zip(rf.feature_importances_, X), reverse=True)"
   ]
  },
  {
   "cell_type": "code",
   "execution_count": 8,
   "metadata": {},
   "outputs": [],
   "source": [
    "#prediciton testing for usering input. \n",
    "testing1 = 1\n",
    "testing2 = 1\n",
    "testing3 = 1\n",
    "testing4 = 1\n",
    "testing5 = 1\n",
    "testing6 = 0\n",
    "testing7 = 0\n",
    "testing8 = 0\n",
    "testing9 = 0\n",
    "testing10 = 0\n",
    "\n",
    "user_test = np.array([testing1, testing2, testing3, testing4, testing5, testing6, testing7, testing8, testing9, testing10])\n",
    "user_test = np.reshape(user_test, (-1,user_test.size))"
   ]
  },
  {
   "cell_type": "code",
   "execution_count": 9,
   "metadata": {},
   "outputs": [
    {
     "data": {
      "text/plain": [
       "'NO'"
      ]
     },
     "execution_count": 9,
     "metadata": {},
     "output_type": "execute_result"
    }
   ],
   "source": [
    "# output of prediciton test based on value/response to the variables testing1-testing10\n",
    "test = rf.predict(user_test)\n",
    "test[0]"
   ]
  },
  {
   "cell_type": "code",
   "execution_count": 10,
   "metadata": {},
   "outputs": [],
   "source": [
    "from sklearn.metrics import confusion_matrix\n",
    "tn, fp, fn, tp = confusion_matrix(y_test, rf.predict(X_test)).ravel()"
   ]
  },
  {
   "cell_type": "code",
   "execution_count": 11,
   "metadata": {},
   "outputs": [
    {
     "data": {
      "text/plain": [
       "array([182,   6,   2,  90])"
      ]
     },
     "execution_count": 11,
     "metadata": {},
     "output_type": "execute_result"
    }
   ],
   "source": [
    "confusion_matrix(y_test, rf.predict(X_test)).ravel()"
   ]
  },
  {
   "cell_type": "code",
   "execution_count": 12,
   "metadata": {},
   "outputs": [],
   "source": [
    "X2 = asdDF[[\"A1\", \"A2\", \"A3\",\"A4\",\"A5\", \"A6\", \"A7\", \"A8\", \"A9\", \"A10\", \"Family_ASD\"]]\n",
    "y2 = asdDF[\"Class\"]\n",
    "\n",
    "X2 = pd.get_dummies(X2)"
   ]
  },
  {
   "cell_type": "code",
   "execution_count": 13,
   "metadata": {},
   "outputs": [],
   "source": [
    "X_train2, X_test2, y_train2, y_test2 = train_test_split(X2, y2)"
   ]
  },
  {
   "cell_type": "code",
   "execution_count": 14,
   "metadata": {},
   "outputs": [
    {
     "data": {
      "text/plain": [
       "0.9428571428571428"
      ]
     },
     "execution_count": 14,
     "metadata": {},
     "output_type": "execute_result"
    }
   ],
   "source": [
    "clf2 = tree.DecisionTreeClassifier()\n",
    "clf2 = clf2.fit(X_train2, y_train2)\n",
    "clf2.score(X_test2, y_test2)"
   ]
  },
  {
   "cell_type": "code",
   "execution_count": 15,
   "metadata": {},
   "outputs": [
    {
     "name": "stdout",
     "output_type": "stream",
     "text": [
      "Training Score: 1.0\n",
      "Testing Score: 0.9678571428571429\n"
     ]
    }
   ],
   "source": [
    "rf2 = RandomForestClassifier(n_estimators=200)\n",
    "rf2 = rf.fit(X_train2, y_train2)\n",
    "rf_train_score2 = rf2.score(X_train2, y_train2)\n",
    "rf_test_score2 = rf2.score(X_test2, y_test2)\n",
    "print(f'Training Score: {rf_train_score2}')\n",
    "print(f'Testing Score: {rf_test_score2}')"
   ]
  },
  {
   "cell_type": "code",
   "execution_count": 16,
   "metadata": {},
   "outputs": [],
   "source": [
    "x_family = asdDF[\"Class\"]\n",
    "y_family = asdDF[\"Family_ASD\"]"
   ]
  },
  {
   "cell_type": "code",
   "execution_count": 17,
   "metadata": {},
   "outputs": [],
   "source": [
    "x_family = pd.get_dummies(x_family)"
   ]
  },
  {
   "cell_type": "code",
   "execution_count": 18,
   "metadata": {},
   "outputs": [],
   "source": [
    "X_train_family, X_test_family, y_train_family, y_test_family = train_test_split(x_family, y_family)"
   ]
  },
  {
   "cell_type": "code",
   "execution_count": 19,
   "metadata": {},
   "outputs": [
    {
     "data": {
      "text/plain": [
       "0.8285714285714286"
      ]
     },
     "execution_count": 19,
     "metadata": {},
     "output_type": "execute_result"
    }
   ],
   "source": [
    "clf_family = tree.DecisionTreeClassifier()\n",
    "clf_family = clf_family.fit(X_train_family, y_train_family)\n",
    "clf_family.score(X_test_family, y_test_family)"
   ]
  },
  {
   "cell_type": "code",
   "execution_count": 20,
   "metadata": {},
   "outputs": [
    {
     "name": "stdout",
     "output_type": "stream",
     "text": [
      "Training Score: 0.8389021479713604\n",
      "Testing Score: 0.8285714285714286\n"
     ]
    }
   ],
   "source": [
    "rf_family = RandomForestClassifier(n_estimators=200)\n",
    "rf_family = rf_family.fit(X_train_family, y_train_family)\n",
    "rf_train_score_family = rf_family.score(X_train_family, y_train_family)\n",
    "rf_test_score_family = rf_family.score(X_test_family, y_test_family)\n",
    "print(f'Training Score: {rf_train_score_family}')\n",
    "print(f'Testing Score: {rf_test_score_family}')"
   ]
  },
  {
   "cell_type": "code",
   "execution_count": 21,
   "metadata": {},
   "outputs": [],
   "source": [
    "X_all = asdDF.drop([\"Class\", \"Case No\", \"Score\"], axis = 1)\n",
    "y_all = asdDF[\"Class\"]"
   ]
  },
  {
   "cell_type": "code",
   "execution_count": 22,
   "metadata": {},
   "outputs": [],
   "source": [
    "X_all = pd.get_dummies(X_all)"
   ]
  },
  {
   "cell_type": "code",
   "execution_count": 23,
   "metadata": {},
   "outputs": [],
   "source": [
    "X_train_all, X_test_all, y_train_all, y_test_all = train_test_split(X_all, y_all)"
   ]
  },
  {
   "cell_type": "code",
   "execution_count": 24,
   "metadata": {},
   "outputs": [
    {
     "data": {
      "text/plain": [
       "0.9428571428571428"
      ]
     },
     "execution_count": 24,
     "metadata": {},
     "output_type": "execute_result"
    }
   ],
   "source": [
    "clf_all = tree.DecisionTreeClassifier()\n",
    "clf_all = clf_all.fit(X_train_all, y_train_all)\n",
    "clf_all.score(X_test_all, y_test_all)"
   ]
  },
  {
   "cell_type": "code",
   "execution_count": 25,
   "metadata": {},
   "outputs": [
    {
     "name": "stdout",
     "output_type": "stream",
     "text": [
      "Training Score of all Data: 1.0\n",
      "Testing Score of all Data: 0.9678571428571429\n"
     ]
    }
   ],
   "source": [
    "rf_all = RandomForestClassifier(n_estimators=200)\n",
    "rf_all = rf_all.fit(X_train_all, y_train_all)\n",
    "rf_train_all_score = rf_all.score(X_train_all, y_train_all)\n",
    "rf_test_all_score = rf_all.score(X_test_all, y_test_all)\n",
    "print(f'Training Score of all Data: {rf_train_all_score}')\n",
    "print(f'Testing Score of all Data: {rf_test_all_score}')"
   ]
  },
  {
   "cell_type": "code",
   "execution_count": 26,
   "metadata": {
    "scrolled": true
   },
   "outputs": [],
   "source": [
    "importances = rf_all.feature_importances_"
   ]
  },
  {
   "cell_type": "code",
   "execution_count": 27,
   "metadata": {},
   "outputs": [
    {
     "data": {
      "text/plain": [
       "[(0.12779212935930906, 'A6'),\n",
       " (0.12233497965118983, 'A9'),\n",
       " (0.11139788901614654, 'A5'),\n",
       " (0.07468160537066332, 'A4'),\n",
       " (0.06941011087310649, 'A3'),\n",
       " (0.05007695723241281, 'Age'),\n",
       " (0.0490239343644273, 'A10'),\n",
       " (0.04836625613736448, 'A7'),\n",
       " (0.036750253576776276, 'A2'),\n",
       " (0.034143051542573605, 'A1'),\n",
       " (0.029907861469094833, 'A8'),\n",
       " (0.017436645014411965, 'Ethnicity_white'),\n",
       " (0.011483495783401368, 'Sex_f'),\n",
       " (0.011443992727985125, 'Residence_United States'),\n",
       " (0.010006371809225766, 'Sex_m'),\n",
       " (0.009873454658432599, 'Family_ASD_yes'),\n",
       " (0.009808165327585055, 'Ethnicity_asian'),\n",
       " (0.009662477794955495, 'Residence_United Kingdom'),\n",
       " (0.009247182586871955, 'Family_ASD_no'),\n",
       " (0.008277722591896259, 'Ethnicity_middle eastern'),\n",
       " (0.0077827041883602, 'User_self'),\n",
       " (0.007425881626296081, 'Residence_United Arab Emirates'),\n",
       " (0.0069136747488038304, 'Jaundice _no'),\n",
       " (0.00662823055368858, 'Residence_India'),\n",
       " (0.006514302396421384, 'Residence_Canada'),\n",
       " (0.006061276697912219, 'Jaundice _yes'),\n",
       " (0.00561035999062808, 'Residence_New Zealand'),\n",
       " (0.005350381301775605, 'User_parent'),\n",
       " (0.0049835943770442995, 'Language_english'),\n",
       " (0.004501617373168288, 'Ethnicity_latino'),\n",
       " (0.004261397851578902, 'Ethnicity_black'),\n",
       " (0.003650063143474573, 'Language_arabic'),\n",
       " (0.003572419161077879, 'Ethnicity_south asians'),\n",
       " (0.0033692286390550824, 'Residence_Australia'),\n",
       " (0.003272100812877884, 'Ethnicity_others '),\n",
       " (0.003001220718630672, 'Language_spanish'),\n",
       " (0.0029417393167003735, 'Language_french'),\n",
       " (0.0029199418737262312, 'Used_App_Before_yes'),\n",
       " (0.0028480799296705128, 'User_relative'),\n",
       " (0.002778244655313984, 'Used_App_Before_no'),\n",
       " (0.0026579792339464546, 'Residence_Jordan'),\n",
       " (0.002650199125217265, 'Residence_Belgium'),\n",
       " (0.002376804594628282, 'Residence_Sweden'),\n",
       " (0.0023651650520163346, 'Ethnicity_hispanic'),\n",
       " (0.0022181599336375353, 'Residence_Italy'),\n",
       " (0.001978616666492725, 'Language_portuguese'),\n",
       " (0.0018375228423971202, 'Residence_France'),\n",
       " (0.0018309258000454723, 'User_others'),\n",
       " (0.0015477452029235104, 'Residence_Finland'),\n",
       " (0.0015235506065402135, 'Residence_Brazil'),\n",
       " (0.0015076992103045521, 'Ethnicity_aboriginal'),\n",
       " (0.0014297926535262336, 'Residence_Austria'),\n",
       " (0.0013741301449326328, 'Residence_Mexico'),\n",
       " (0.0013647850667308104, 'Residence_Norway'),\n",
       " (0.0012557571831431228, 'Residence_Viet Nam'),\n",
       " (0.001230354840113992, 'Residence_Malaysia'),\n",
       " (0.0011891561822839614, 'Residence_Netherlands'),\n",
       " (0.0011467290357441025, 'Residence_Russia'),\n",
       " (0.0010996821514353626, 'Residence_Indonesia'),\n",
       " (0.001072692933420295, 'Language_farsi'),\n",
       " (0.0010228047760011036, 'Residence_Poland'),\n",
       " (0.0009664578244237098, 'Residence_Afghanistan'),\n",
       " (0.0008969306650275287, 'Residence_Philippines'),\n",
       " (0.0008905808548816623, 'Residence_Czech Republic'),\n",
       " (0.0008268502538665146, 'Residence_Bahamas'),\n",
       " (0.0008147046635094339, 'Residence_Sri Lanka'),\n",
       " (0.0007959245485039575, 'Residence_Pakistan'),\n",
       " (0.0007810302291591109, 'Residence_Ireland'),\n",
       " (0.0007507677417211035, 'Language_russian'),\n",
       " (0.0007423764576573878, 'User_health care professional'),\n",
       " (0.0007198142594370332, 'Residence_Argentina'),\n",
       " (0.0007063677425267507, 'Residence_Taiwan'),\n",
       " (0.0006927688599809909, 'Residence_Sierra Leone'),\n",
       " (0.0006785587754894736, 'Residence_Denmark'),\n",
       " (0.0006430878773217803, 'Residence_South Africa'),\n",
       " (0.0005982380064633741, 'Residence_Germany'),\n",
       " (0.0005875106248647194, 'Residence_Saudi Arabia'),\n",
       " (0.0005599260292727805, 'Residence_Antigua and Barbuda'),\n",
       " (0.0005570102280684141, 'Residence_Iran'),\n",
       " (0.0004943896931783988, 'Residence_Singapore'),\n",
       " (0.0004773367142929691, 'Residence_Hong Kong'),\n",
       " (0.0004692180099170059, 'Residence_Iceland'),\n",
       " (0.0004599450888792756, 'Residence_Saint Kitts and Nevis'),\n",
       " (0.0004179843440815792, 'Language_mandarin'),\n",
       " (0.0003627761425997969, 'Residence_Angola'),\n",
       " (0.00033830801689015665, 'Residence_Spain'),\n",
       " (0.0003266474720719363, 'Residence_Lebanon'),\n",
       " (0.0003214110322604687, 'Residence_Burundi'),\n",
       " (0.00029376675280263093, 'Residence_China'),\n",
       " (0.0002918513774109652, 'Language_urdu'),\n",
       " (0.00028731417596579184, 'Residence_Bangladesh'),\n",
       " (0.00025955228527066736, 'Residence_Qatar'),\n",
       " (0.00020420554658088865, 'Residence_Honduras'),\n",
       " (0.00019412064661843704, 'Residence_Djibouti'),\n",
       " (0.00015700267814036567, 'Residence_Ecuador'),\n",
       " (0.00015179241025305916, 'Residence_Ukraine'),\n",
       " (0.00015152425873444267, 'Residence_Romania'),\n",
       " (0.0001277665118244637, 'Residence_Zambia'),\n",
       " (0.0001104964351394357, 'Residence_AmericanSamoa'),\n",
       " (0.00010574835443547699, 'Residence_Kazakhstan'),\n",
       " (8.547462752908097e-05, 'Residence_Costa Rica'),\n",
       " (7.637246010198438e-05, 'Residence_Switzerland'),\n",
       " (6.688011335885466e-05, 'User_friend'),\n",
       " (6.499021300208308e-05, 'Residence_Niger'),\n",
       " (5.930785395338042e-05, 'Residence_Virgin Islands, U.S.'),\n",
       " (5.2825764845152256e-05, 'Residence_Peru'),\n",
       " (3.6998315348649294e-05, 'Residence_Armenia'),\n",
       " (3.432024801922099e-05, 'Residence_Iran, Islamic Republic of'),\n",
       " (2.556025881771635e-05, 'Residence_Egypt'),\n",
       " (2.056521614290891e-05, 'Residence_Azerbaijan'),\n",
       " (1.9782345518962137e-05, 'Residence_French Guiana'),\n",
       " (1.8886825836295743e-05, 'Residence_Nicaragua'),\n",
       " (1.7869612954464923e-05, 'Residence_Croatia'),\n",
       " (6.373414764888454e-06, 'Residence_Uruguay'),\n",
       " (4.4959665474853555e-06, 'Residence_Ethiopia'),\n",
       " (1.523993409228093e-06, 'Residence_Oman'),\n",
       " (1.4876471690419642e-06, 'Residence_Iraq'),\n",
       " (1.3220210814586107e-06, 'Residence_Turkey'),\n",
       " (1.1971444937579914e-06, 'Residence_Portugal'),\n",
       " (3.0404450450609435e-07, 'Residence_Tonga'),\n",
       " (9.447147422339217e-08, 'User_teacher'),\n",
       " (5.4372086746163896e-08, 'Residence_Japan'),\n",
       " (0.0, 'Screening Type_17 and more'),\n",
       " (0.0, 'Residence_Turkmenistan'),\n",
       " (0.0, 'Residence_Thailand'),\n",
       " (0.0, 'Residence_Serbia'),\n",
       " (0.0, 'Residence_Nepal'),\n",
       " (0.0, 'Residence_Hungary'),\n",
       " (0.0, 'Residence_Cyprus'),\n",
       " (0.0, 'Residence_Chile'),\n",
       " (0.0, 'Residence_Bolivia'),\n",
       " (0.0, 'Residence_Bahrain'),\n",
       " (0.0, 'Residence_Aruba'),\n",
       " (0.0, 'Language_turkish'),\n",
       " (0.0, 'Language_swahili')]"
      ]
     },
     "execution_count": 27,
     "metadata": {},
     "output_type": "execute_result"
    }
   ],
   "source": [
    "sorted(zip(rf_all.feature_importances_, X_all), reverse=True)"
   ]
  },
  {
   "cell_type": "code",
   "execution_count": null,
   "metadata": {},
   "outputs": [],
   "source": []
  }
 ],
 "metadata": {
  "kernelspec": {
   "display_name": "Python 3",
   "language": "python",
   "name": "python3"
  },
  "language_info": {
   "codemirror_mode": {
    "name": "ipython",
    "version": 3
   },
   "file_extension": ".py",
   "mimetype": "text/x-python",
   "name": "python",
   "nbconvert_exporter": "python",
   "pygments_lexer": "ipython3",
   "version": "3.6.9"
  }
 },
 "nbformat": 4,
 "nbformat_minor": 2
}
