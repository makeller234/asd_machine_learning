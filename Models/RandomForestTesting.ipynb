{
 "cells": [
  {
   "cell_type": "code",
   "execution_count": 1,
   "metadata": {},
   "outputs": [],
   "source": [
    "from sklearn.ensemble import RandomForestClassifier\n",
    "import pandas as pd\n",
    "import numpy as np\n",
    "import os"
   ]
  },
  {
   "cell_type": "code",
   "execution_count": 2,
   "metadata": {},
   "outputs": [
    {
     "data": {
      "text/html": [
       "<div>\n",
       "<style scoped>\n",
       "    .dataframe tbody tr th:only-of-type {\n",
       "        vertical-align: middle;\n",
       "    }\n",
       "\n",
       "    .dataframe tbody tr th {\n",
       "        vertical-align: top;\n",
       "    }\n",
       "\n",
       "    .dataframe thead th {\n",
       "        text-align: right;\n",
       "    }\n",
       "</style>\n",
       "<table border=\"1\" class=\"dataframe\">\n",
       "  <thead>\n",
       "    <tr style=\"text-align: right;\">\n",
       "      <th></th>\n",
       "      <th>Case No</th>\n",
       "      <th>A1</th>\n",
       "      <th>A2</th>\n",
       "      <th>A3</th>\n",
       "      <th>A4</th>\n",
       "      <th>A5</th>\n",
       "      <th>A6</th>\n",
       "      <th>A7</th>\n",
       "      <th>A8</th>\n",
       "      <th>A9</th>\n",
       "      <th>A10</th>\n",
       "      <th>Age</th>\n",
       "      <th>Sex</th>\n",
       "      <th>Ethnicity</th>\n",
       "      <th>Jaundice</th>\n",
       "      <th>Family_ASD</th>\n",
       "      <th>Residence</th>\n",
       "      <th>Used_App_Before</th>\n",
       "      <th>Score</th>\n",
       "      <th>Screening Type</th>\n",
       "      <th>Language</th>\n",
       "      <th>User</th>\n",
       "      <th>Class</th>\n",
       "    </tr>\n",
       "  </thead>\n",
       "  <tbody>\n",
       "    <tr>\n",
       "      <th>0</th>\n",
       "      <td>6</td>\n",
       "      <td>0</td>\n",
       "      <td>0</td>\n",
       "      <td>0</td>\n",
       "      <td>0</td>\n",
       "      <td>0</td>\n",
       "      <td>0</td>\n",
       "      <td>0</td>\n",
       "      <td>0</td>\n",
       "      <td>0</td>\n",
       "      <td>0</td>\n",
       "      <td>27</td>\n",
       "      <td>f</td>\n",
       "      <td>white</td>\n",
       "      <td>no</td>\n",
       "      <td>no</td>\n",
       "      <td>Russia</td>\n",
       "      <td>no</td>\n",
       "      <td>0</td>\n",
       "      <td>17 and more</td>\n",
       "      <td>russian</td>\n",
       "      <td>parent</td>\n",
       "      <td>NO</td>\n",
       "    </tr>\n",
       "    <tr>\n",
       "      <th>1</th>\n",
       "      <td>10</td>\n",
       "      <td>1</td>\n",
       "      <td>1</td>\n",
       "      <td>1</td>\n",
       "      <td>1</td>\n",
       "      <td>1</td>\n",
       "      <td>1</td>\n",
       "      <td>1</td>\n",
       "      <td>1</td>\n",
       "      <td>1</td>\n",
       "      <td>1</td>\n",
       "      <td>21</td>\n",
       "      <td>f</td>\n",
       "      <td>white</td>\n",
       "      <td>no</td>\n",
       "      <td>no</td>\n",
       "      <td>Germany</td>\n",
       "      <td>no</td>\n",
       "      <td>10</td>\n",
       "      <td>17 and more</td>\n",
       "      <td>english</td>\n",
       "      <td>self</td>\n",
       "      <td>YES</td>\n",
       "    </tr>\n",
       "    <tr>\n",
       "      <th>2</th>\n",
       "      <td>12</td>\n",
       "      <td>1</td>\n",
       "      <td>1</td>\n",
       "      <td>0</td>\n",
       "      <td>1</td>\n",
       "      <td>1</td>\n",
       "      <td>0</td>\n",
       "      <td>0</td>\n",
       "      <td>1</td>\n",
       "      <td>0</td>\n",
       "      <td>0</td>\n",
       "      <td>18</td>\n",
       "      <td>m</td>\n",
       "      <td>black</td>\n",
       "      <td>no</td>\n",
       "      <td>no</td>\n",
       "      <td>United States</td>\n",
       "      <td>no</td>\n",
       "      <td>5</td>\n",
       "      <td>17 and more</td>\n",
       "      <td>english</td>\n",
       "      <td>self</td>\n",
       "      <td>NO</td>\n",
       "    </tr>\n",
       "    <tr>\n",
       "      <th>3</th>\n",
       "      <td>16</td>\n",
       "      <td>1</td>\n",
       "      <td>0</td>\n",
       "      <td>0</td>\n",
       "      <td>0</td>\n",
       "      <td>1</td>\n",
       "      <td>1</td>\n",
       "      <td>1</td>\n",
       "      <td>1</td>\n",
       "      <td>1</td>\n",
       "      <td>1</td>\n",
       "      <td>49</td>\n",
       "      <td>m</td>\n",
       "      <td>black</td>\n",
       "      <td>no</td>\n",
       "      <td>no</td>\n",
       "      <td>Mexico</td>\n",
       "      <td>no</td>\n",
       "      <td>7</td>\n",
       "      <td>17 and more</td>\n",
       "      <td>french</td>\n",
       "      <td>self</td>\n",
       "      <td>YES</td>\n",
       "    </tr>\n",
       "    <tr>\n",
       "      <th>4</th>\n",
       "      <td>20</td>\n",
       "      <td>1</td>\n",
       "      <td>1</td>\n",
       "      <td>1</td>\n",
       "      <td>0</td>\n",
       "      <td>0</td>\n",
       "      <td>0</td>\n",
       "      <td>0</td>\n",
       "      <td>1</td>\n",
       "      <td>0</td>\n",
       "      <td>0</td>\n",
       "      <td>18</td>\n",
       "      <td>m</td>\n",
       "      <td>aboriginal</td>\n",
       "      <td>no</td>\n",
       "      <td>no</td>\n",
       "      <td>Indonesia</td>\n",
       "      <td>no</td>\n",
       "      <td>4</td>\n",
       "      <td>17 and more</td>\n",
       "      <td>english</td>\n",
       "      <td>self</td>\n",
       "      <td>NO</td>\n",
       "    </tr>\n",
       "  </tbody>\n",
       "</table>\n",
       "</div>"
      ],
      "text/plain": [
       "   Case No  A1  A2  A3  A4  A5  A6  A7  A8  A9  A10  Age Sex   Ethnicity  \\\n",
       "0        6   0   0   0   0   0   0   0   0   0    0   27   f       white   \n",
       "1       10   1   1   1   1   1   1   1   1   1    1   21   f       white   \n",
       "2       12   1   1   0   1   1   0   0   1   0    0   18   m       black   \n",
       "3       16   1   0   0   0   1   1   1   1   1    1   49   m       black   \n",
       "4       20   1   1   1   0   0   0   0   1   0    0   18   m  aboriginal   \n",
       "\n",
       "  Jaundice  Family_ASD      Residence Used_App_Before  Score Screening Type  \\\n",
       "0        no         no         Russia              no      0    17 and more   \n",
       "1        no         no        Germany              no     10    17 and more   \n",
       "2        no         no  United States              no      5    17 and more   \n",
       "3        no         no         Mexico              no      7    17 and more   \n",
       "4        no         no      Indonesia              no      4    17 and more   \n",
       "\n",
       "  Language    User Class  \n",
       "0  russian  parent    NO  \n",
       "1  english    self   YES  \n",
       "2  english    self    NO  \n",
       "3   french    self   YES  \n",
       "4  english    self    NO  "
      ]
     },
     "execution_count": 2,
     "metadata": {},
     "output_type": "execute_result"
    }
   ],
   "source": [
    "file = os.path.join(\"../Resources/Autism.csv\")\n",
    "asdDF = pd.read_csv(file)\n",
    "pd.set_option('display.max_columns', None)\n",
    "asdDF.head()"
   ]
  },
  {
   "cell_type": "code",
   "execution_count": 3,
   "metadata": {},
   "outputs": [],
   "source": [
    "# X = asdDF[[\"A1\", \"A2\", \"A3\",\"A4\",\"A5\", \"A6\", \"A7\", \"A8\", \"A9\", \"A10\", \"Score\"]]\n",
    "X = asdDF[[\"A1\", \"A2\", \"A3\",\"A4\",\"A5\", \"A6\", \"A7\", \"A8\", \"A9\", \"A10\"]]\n",
    "y = asdDF[\"Class\"]"
   ]
  },
  {
   "cell_type": "code",
   "execution_count": 4,
   "metadata": {},
   "outputs": [],
   "source": [
    "from sklearn.model_selection import train_test_split\n",
    "\n",
    "# X = pd.get_dummies(X)\n",
    "\n",
    "X_train, X_test, y_train, y_test = train_test_split(X, y)"
   ]
  },
  {
   "cell_type": "code",
   "execution_count": 5,
   "metadata": {},
   "outputs": [
    {
     "data": {
      "text/plain": [
       "0.9607142857142857"
      ]
     },
     "execution_count": 5,
     "metadata": {},
     "output_type": "execute_result"
    }
   ],
   "source": [
    "from sklearn import tree\n",
    "clf = tree.DecisionTreeClassifier()\n",
    "clf = clf.fit(X_train, y_train)\n",
    "clf.score(X_test, y_test)\n"
   ]
  },
  {
   "cell_type": "code",
   "execution_count": 6,
   "metadata": {},
   "outputs": [
    {
     "name": "stdout",
     "output_type": "stream",
     "text": [
      "Training Score: 1.0\n",
      "Testing Score: 0.9678571428571429\n"
     ]
    }
   ],
   "source": [
    "rf = RandomForestClassifier(n_estimators=200)\n",
    "rf = rf.fit(X_train, y_train)\n",
    "rf_train_score = rf.score(X_train, y_train)\n",
    "rf_test_score = rf.score(X_test, y_test)\n",
    "print(f'Training Score: {rf_train_score}')\n",
    "print(f'Testing Score: {rf_test_score}')"
   ]
  },
  {
   "cell_type": "code",
   "execution_count": 7,
   "metadata": {},
   "outputs": [
    {
     "data": {
      "text/plain": [
       "[(0.19222580687103652, 'A6'),\n",
       " (0.18541123172772522, 'A9'),\n",
       " (0.14993717893910719, 'A5'),\n",
       " (0.10391854000449731, 'A4'),\n",
       " (0.08855143209434671, 'A3'),\n",
       " (0.06821132853189947, 'A1'),\n",
       " (0.06496443986448595, 'A7'),\n",
       " (0.052126391382118345, 'A2'),\n",
       " (0.047945558540646506, 'A8'),\n",
       " (0.04670809204413673, 'A10')]"
      ]
     },
     "execution_count": 7,
     "metadata": {},
     "output_type": "execute_result"
    }
   ],
   "source": [
    "importances = rf.feature_importances_\n",
    "sorted(zip(rf.feature_importances_, X), reverse=True)"
   ]
  },
  {
   "cell_type": "code",
   "execution_count": 8,
   "metadata": {},
   "outputs": [],
   "source": [
    "#prediciton testing for usering input. \n",
    "testing1 = 1\n",
    "testing2 = 1\n",
    "testing3 = 1\n",
    "testing4 = 1\n",
    "testing5 = 1\n",
    "testing6 = 0\n",
    "testing7 = 0\n",
    "testing8 = 0\n",
    "testing9 = 0\n",
    "testing10 = 0\n",
    "\n",
    "user_test = np.array([testing1, testing2, testing3, testing4, testing5, testing6, testing7, testing8, testing9, testing10])\n",
    "user_test = np.reshape(user_test, (-1,user_test.size))"
   ]
  },
  {
   "cell_type": "code",
   "execution_count": 9,
   "metadata": {},
   "outputs": [
    {
     "data": {
      "text/plain": [
       "'NO'"
      ]
     },
     "execution_count": 9,
     "metadata": {},
     "output_type": "execute_result"
    }
   ],
   "source": [
    "# output of prediciton test based on value/response to the variables testing1-testing10\n",
    "test = rf.predict(user_test)\n",
    "test[0]"
   ]
  },
  {
   "cell_type": "code",
   "execution_count": 10,
   "metadata": {},
   "outputs": [],
   "source": [
    "from sklearn.metrics import confusion_matrix\n",
    "tn, fp, fn, tp = confusion_matrix(y_test, rf.predict(X_test)).ravel()"
   ]
  },
  {
   "cell_type": "code",
   "execution_count": 11,
   "metadata": {},
   "outputs": [
    {
     "data": {
      "text/plain": [
       "array([174,   8,   1,  97])"
      ]
     },
     "execution_count": 11,
     "metadata": {},
     "output_type": "execute_result"
    }
   ],
   "source": [
    "confusion_matrix(y_test, rf.predict(X_test)).ravel()"
   ]
  },
  {
   "cell_type": "code",
   "execution_count": 12,
   "metadata": {},
   "outputs": [],
   "source": [
    "X2 = asdDF[[\"A1\", \"A2\", \"A3\",\"A4\",\"A5\", \"A6\", \"A7\", \"A8\", \"A9\", \"A10\", \"Family_ASD\"]]\n",
    "y2 = asdDF[\"Class\"]\n",
    "\n",
    "X2 = pd.get_dummies(X2)"
   ]
  },
  {
   "cell_type": "code",
   "execution_count": 13,
   "metadata": {},
   "outputs": [],
   "source": [
    "X_train2, X_test2, y_train2, y_test2 = train_test_split(X2, y2)"
   ]
  },
  {
   "cell_type": "code",
   "execution_count": 14,
   "metadata": {},
   "outputs": [
    {
     "data": {
      "text/plain": [
       "0.9428571428571428"
      ]
     },
     "execution_count": 14,
     "metadata": {},
     "output_type": "execute_result"
    }
   ],
   "source": [
    "clf2 = tree.DecisionTreeClassifier()\n",
    "clf2 = clf2.fit(X_train2, y_train2)\n",
    "clf2.score(X_test2, y_test2)"
   ]
  },
  {
   "cell_type": "code",
   "execution_count": 15,
   "metadata": {},
   "outputs": [
    {
     "name": "stdout",
     "output_type": "stream",
     "text": [
      "Training Score: 1.0\n",
      "Testing Score: 0.9678571428571429\n"
     ]
    }
   ],
   "source": [
    "rf2 = RandomForestClassifier(n_estimators=200)\n",
    "rf2 = rf.fit(X_train2, y_train2)\n",
    "rf_train_score2 = rf2.score(X_train2, y_train2)\n",
    "rf_test_score2 = rf2.score(X_test2, y_test2)\n",
    "print(f'Training Score: {rf_train_score2}')\n",
    "print(f'Testing Score: {rf_test_score2}')"
   ]
  },
  {
   "cell_type": "code",
   "execution_count": 16,
   "metadata": {},
   "outputs": [],
   "source": [
    "x_family = asdDF[\"Class\"]\n",
    "y_family = asdDF[\"Family_ASD\"]"
   ]
  },
  {
   "cell_type": "code",
   "execution_count": 17,
   "metadata": {},
   "outputs": [],
   "source": [
    "x_family = pd.get_dummies(x_family)"
   ]
  },
  {
   "cell_type": "code",
   "execution_count": 18,
   "metadata": {},
   "outputs": [],
   "source": [
    "X_train_family, X_test_family, y_train_family, y_test_family = train_test_split(x_family, y_family)"
   ]
  },
  {
   "cell_type": "code",
   "execution_count": 19,
   "metadata": {},
   "outputs": [
    {
     "data": {
      "text/plain": [
       "0.8321428571428572"
      ]
     },
     "execution_count": 19,
     "metadata": {},
     "output_type": "execute_result"
    }
   ],
   "source": [
    "clf_family = tree.DecisionTreeClassifier()\n",
    "clf_family = clf_family.fit(X_train_family, y_train_family)\n",
    "clf_family.score(X_test_family, y_test_family)"
   ]
  },
  {
   "cell_type": "code",
   "execution_count": 20,
   "metadata": {},
   "outputs": [
    {
     "name": "stdout",
     "output_type": "stream",
     "text": [
      "Training Score: 0.837708830548926\n",
      "Testing Score: 0.8321428571428572\n"
     ]
    }
   ],
   "source": [
    "rf_family = RandomForestClassifier(n_estimators=200)\n",
    "rf_family = rf_family.fit(X_train_family, y_train_family)\n",
    "rf_train_score_family = rf_family.score(X_train_family, y_train_family)\n",
    "rf_test_score_family = rf_family.score(X_test_family, y_test_family)\n",
    "print(f'Training Score: {rf_train_score_family}')\n",
    "print(f'Testing Score: {rf_test_score_family}')"
   ]
  },
  {
   "cell_type": "code",
   "execution_count": 21,
   "metadata": {},
   "outputs": [],
   "source": [
    "X_all = asdDF.drop([\"Class\", \"Case No\", \"Score\"], axis = 1)\n",
    "y_all = asdDF[\"Class\"]"
   ]
  },
  {
   "cell_type": "code",
   "execution_count": 22,
   "metadata": {},
   "outputs": [],
   "source": [
    "X_all = pd.get_dummies(X_all)"
   ]
  },
  {
   "cell_type": "code",
   "execution_count": 23,
   "metadata": {},
   "outputs": [],
   "source": [
    "X_train_all, X_test_all, y_train_all, y_test_all = train_test_split(X_all, y_all)"
   ]
  },
  {
   "cell_type": "code",
   "execution_count": 24,
   "metadata": {},
   "outputs": [
    {
     "data": {
      "text/plain": [
       "0.9107142857142857"
      ]
     },
     "execution_count": 24,
     "metadata": {},
     "output_type": "execute_result"
    }
   ],
   "source": [
    "clf_all = tree.DecisionTreeClassifier()\n",
    "clf_all = clf_all.fit(X_train_all, y_train_all)\n",
    "clf_all.score(X_test_all, y_test_all)"
   ]
  },
  {
   "cell_type": "code",
   "execution_count": 25,
   "metadata": {},
   "outputs": [
    {
     "name": "stdout",
     "output_type": "stream",
     "text": [
      "Training Score of all Data: 1.0\n",
      "Testing Score of all Data: 0.9535714285714286\n"
     ]
    }
   ],
   "source": [
    "rf_all = RandomForestClassifier(n_estimators=200)\n",
    "rf_all = rf_all.fit(X_train_all, y_train_all)\n",
    "rf_train_all_score = rf_all.score(X_train_all, y_train_all)\n",
    "rf_test_all_score = rf_all.score(X_test_all, y_test_all)\n",
    "print(f'Training Score of all Data: {rf_train_all_score}')\n",
    "print(f'Testing Score of all Data: {rf_test_all_score}')"
   ]
  },
  {
   "cell_type": "code",
   "execution_count": 26,
   "metadata": {
    "scrolled": true
   },
   "outputs": [],
   "source": [
    "importances = rf_all.feature_importances_"
   ]
  },
  {
   "cell_type": "code",
   "execution_count": 27,
   "metadata": {},
   "outputs": [
    {
     "data": {
      "text/plain": [
       "[(0.14507707095303943, 'A6'),\n",
       " (0.1292228978436255, 'A9'),\n",
       " (0.10856426896342303, 'A5'),\n",
       " (0.07638078911899164, 'A4'),\n",
       " (0.05407512278945235, 'A10'),\n",
       " (0.04943111569607859, 'A3'),\n",
       " (0.04658066626452362, 'Age'),\n",
       " (0.04374637567978868, 'A7'),\n",
       " (0.04021201339796713, 'A2'),\n",
       " (0.03569956342793868, 'A1'),\n",
       " (0.03157494826882587, 'A8'),\n",
       " (0.016779554956808867, 'Ethnicity_white'),\n",
       " (0.012705953643859982, 'Residence_United States'),\n",
       " (0.01136141629441405, 'Ethnicity_asian'),\n",
       " (0.010413078293703748, 'Sex_f'),\n",
       " (0.00987680467956529, 'Sex_m'),\n",
       " (0.009666070448948603, 'Residence_United Kingdom'),\n",
       " (0.009139918614736432, 'Family_ASD_no'),\n",
       " (0.009132361338362847, 'Residence_India'),\n",
       " (0.008775794004257521, 'Ethnicity_middle eastern'),\n",
       " (0.008747229520802322, 'Family_ASD_yes'),\n",
       " (0.008638240121478558, 'User_self'),\n",
       " (0.006069401147315887, 'User_parent'),\n",
       " (0.005634883986394701, 'Jaundice _yes'),\n",
       " (0.0056268191054987165, 'Residence_United Arab Emirates'),\n",
       " (0.005567227569659767, 'Residence_New Zealand'),\n",
       " (0.0050939472602465315, 'Jaundice _no'),\n",
       " (0.004715657240475386, 'Language_english'),\n",
       " (0.004511201949048732, 'Ethnicity_black'),\n",
       " (0.004303824865238213, 'Ethnicity_latino'),\n",
       " (0.004185102896137861, 'Residence_Canada'),\n",
       " (0.0034828736757843075, 'Ethnicity_others '),\n",
       " (0.0032503070913904274, 'User_relative'),\n",
       " (0.002990617639457155, 'Language_arabic'),\n",
       " (0.0028916212476436864, 'Used_App_Before_yes'),\n",
       " (0.002742571069346623, 'Used_App_Before_no'),\n",
       " (0.002734339167070227, 'Language_french'),\n",
       " (0.0027295964281399414, 'Residence_Belgium'),\n",
       " (0.002692939244469331, 'Residence_Austria'),\n",
       " (0.002505711238838469, 'Ethnicity_south asians'),\n",
       " (0.002402324518911278, 'Residence_Australia'),\n",
       " (0.0022294943078610793, 'Residence_Sweden'),\n",
       " (0.0022222767227919357, 'Ethnicity_hispanic'),\n",
       " (0.0021244906320255375, 'Residence_Afghanistan'),\n",
       " (0.0019944123345869563, 'Residence_Jordan'),\n",
       " (0.0017942162578779002, 'Residence_Finland'),\n",
       " (0.001759990779173352, 'User_others'),\n",
       " (0.0017266170759473861, 'Residence_Indonesia'),\n",
       " (0.0017239550309460258, 'Language_spanish'),\n",
       " (0.0016841010330115912, 'Residence_Netherlands'),\n",
       " (0.0016493859515349357, 'Residence_France'),\n",
       " (0.001635227022529988, 'Residence_Mexico'),\n",
       " (0.0014571502457580163, 'Residence_Brazil'),\n",
       " (0.0014198543840985922, 'User_health care professional'),\n",
       " (0.0013496939585970163, 'Residence_Sri Lanka'),\n",
       " (0.0013367077078368515, 'Language_portuguese'),\n",
       " (0.0012684812247037843, 'Residence_Malaysia'),\n",
       " (0.0012200105871159844, 'Residence_Norway'),\n",
       " (0.001181279746788876, 'Language_farsi'),\n",
       " (0.001168285198172092, 'Residence_Italy'),\n",
       " (0.0010957776540005029, 'Residence_Pakistan'),\n",
       " (0.0010624395816137588, 'Residence_Argentina'),\n",
       " (0.0009629905851831796, 'Residence_Bangladesh'),\n",
       " (0.0009284426029354155, 'Residence_AmericanSamoa'),\n",
       " (0.0008965848176359821, 'Residence_Viet Nam'),\n",
       " (0.0008772736211415279, 'Residence_Poland'),\n",
       " (0.0008712806856101662, 'Residence_South Africa'),\n",
       " (0.0007613506417955825, 'Residence_Saudi Arabia'),\n",
       " (0.0007303898316201166, 'Language_urdu'),\n",
       " (0.0007155420419382616, 'Ethnicity_aboriginal'),\n",
       " (0.0007122949490058658, 'Residence_Bahamas'),\n",
       " (0.0005938572808970503, 'Language_mandarin'),\n",
       " (0.000548885922948712, 'Residence_Spain'),\n",
       " (0.0005483998808947431, 'Residence_Sierra Leone'),\n",
       " (0.0005375720215211176, 'Residence_Lebanon'),\n",
       " (0.00048392722137934643, 'Residence_Germany'),\n",
       " (0.00045651593016527857, 'Language_russian'),\n",
       " (0.00043325301626998637, 'Residence_Iran'),\n",
       " (0.0004316369369156999, 'Residence_Iceland'),\n",
       " (0.00042639272372141336, 'Residence_Singapore'),\n",
       " (0.0003867401121025198, 'Residence_Czech Republic'),\n",
       " (0.0003395934306240243, 'Residence_Hong Kong'),\n",
       " (0.0003092917394622032, 'Residence_Denmark'),\n",
       " (0.00030236177043314037, 'Residence_Burundi'),\n",
       " (0.0002749181994545832, 'Residence_Ireland'),\n",
       " (0.00027089427393531116, 'Residence_Ecuador'),\n",
       " (0.00026220441772023436, 'Residence_Honduras'),\n",
       " (0.00024882134926391763, 'Residence_Costa Rica'),\n",
       " (0.00020958197094625387, 'Residence_Qatar'),\n",
       " (0.0002095026268700777, 'Residence_Switzerland'),\n",
       " (0.00020591259396128428, 'User_friend'),\n",
       " (0.00020161075440906586, 'Residence_Armenia'),\n",
       " (0.00019640311484831426, 'Residence_China'),\n",
       " (0.00018884906610127253, 'Residence_Angola'),\n",
       " (0.00018097478954386958, 'Residence_Djibouti'),\n",
       " (0.0001580934986817873, 'Residence_Ukraine'),\n",
       " (0.00014924086531630548, 'Residence_Peru'),\n",
       " (0.0001346253694041678, 'Residence_Kazakhstan'),\n",
       " (0.00012413229386861648, 'Residence_Romania'),\n",
       " (8.841436234000821e-05, 'Residence_Serbia'),\n",
       " (8.227218609848501e-05, 'Residence_Niger'),\n",
       " (7.686128066739549e-05, 'Residence_Zambia'),\n",
       " (6.940553187698891e-05, 'Residence_Russia'),\n",
       " (5.9232399545393764e-05, 'Residence_Thailand'),\n",
       " (5.3489553580662575e-05, 'Residence_Uruguay'),\n",
       " (5.1924289690398026e-05, 'Residence_Nicaragua'),\n",
       " (4.2956080670061654e-05, 'Residence_Croatia'),\n",
       " (3.2659023198438084e-05, 'Residence_Chile'),\n",
       " (3.229094724169844e-05, 'Residence_Antigua and Barbuda'),\n",
       " (2.8952068178292564e-05, 'Residence_Azerbaijan'),\n",
       " (1.9307517294559113e-05, 'Residence_Egypt'),\n",
       " (1.7069774602937648e-05, 'Language_swahili'),\n",
       " (1.3855065111933147e-05, 'Residence_Japan'),\n",
       " (5.803516873908816e-06, 'Residence_Turkmenistan'),\n",
       " (5.1072825916053425e-06, 'Residence_Aruba'),\n",
       " (4.166091867308672e-06, 'Residence_Ethiopia'),\n",
       " (2.771420420508851e-06, 'Residence_Bahrain'),\n",
       " (1.9121610705911444e-06, 'Residence_Iraq'),\n",
       " (1.8430332792720408e-06, 'Residence_Portugal'),\n",
       " (1.5826480021695524e-06, 'Language_turkish'),\n",
       " (9.409700610325541e-07, 'User_teacher'),\n",
       " (7.384501288851109e-07, 'Residence_Turkey'),\n",
       " (1.931155513485887e-08, 'Residence_Bolivia'),\n",
       " (1.2986893837531957e-08, 'Residence_Philippines'),\n",
       " (0.0, 'Screening Type_17 and more'),\n",
       " (0.0, 'Residence_Virgin Islands, U.S.'),\n",
       " (0.0, 'Residence_Tonga'),\n",
       " (0.0, 'Residence_Taiwan'),\n",
       " (0.0, 'Residence_Saint Kitts and Nevis'),\n",
       " (0.0, 'Residence_Oman'),\n",
       " (0.0, 'Residence_Nepal'),\n",
       " (0.0, 'Residence_Iran, Islamic Republic of'),\n",
       " (0.0, 'Residence_Hungary'),\n",
       " (0.0, 'Residence_French Guiana'),\n",
       " (0.0, 'Residence_Cyprus')]"
      ]
     },
     "execution_count": 27,
     "metadata": {},
     "output_type": "execute_result"
    }
   ],
   "source": [
    "sorted(zip(rf_all.feature_importances_, X_all), reverse=True)"
   ]
  },
  {
   "cell_type": "code",
   "execution_count": null,
   "metadata": {},
   "outputs": [],
   "source": []
  }
 ],
 "metadata": {
  "kernelspec": {
   "display_name": "Python 3",
   "language": "python",
   "name": "python3"
  },
  "language_info": {
   "codemirror_mode": {
    "name": "ipython",
    "version": 3
   },
   "file_extension": ".py",
   "mimetype": "text/x-python",
   "name": "python",
   "nbconvert_exporter": "python",
   "pygments_lexer": "ipython3",
   "version": "3.6.9"
  }
 },
 "nbformat": 4,
 "nbformat_minor": 2
}
