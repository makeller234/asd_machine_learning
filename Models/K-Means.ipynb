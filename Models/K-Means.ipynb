{
 "cells": [
  {
   "cell_type": "code",
<<<<<<< HEAD
   "execution_count": 1,
   "metadata": {},
   "outputs": [
    {
     "name": "stdout",
     "output_type": "stream",
     "text": [
      "Requirement already up-to-date: sklearn in /Users/mak/anaconda3/envs/PythonData/lib/python3.6/site-packages (0.0)\r\n",
      "Requirement already satisfied, skipping upgrade: scikit-learn in /Users/mak/anaconda3/envs/PythonData/lib/python3.6/site-packages (from sklearn) (0.21.3)\r\n",
      "Requirement already satisfied, skipping upgrade: numpy>=1.11.0 in /Users/mak/anaconda3/envs/PythonData/lib/python3.6/site-packages (from scikit-learn->sklearn) (1.17.4)\r\n",
      "Requirement already satisfied, skipping upgrade: scipy>=0.17.0 in /Users/mak/anaconda3/envs/PythonData/lib/python3.6/site-packages (from scikit-learn->sklearn) (1.3.2)\r\n",
      "Requirement already satisfied, skipping upgrade: joblib>=0.11 in /Users/mak/anaconda3/envs/PythonData/lib/python3.6/site-packages (from scikit-learn->sklearn) (0.14.0)\r\n"
     ]
    }
   ],
   "source": [
    "# Update sklearn to prevent version mismatches\n",
    "!pip install sklearn --upgrade"
   ]
  },
  {
   "cell_type": "code",
   "execution_count": 2,
   "metadata": {},
   "outputs": [
    {
     "name": "stdout",
     "output_type": "stream",
     "text": [
      "Requirement already satisfied: joblib in /Users/mak/anaconda3/envs/PythonData/lib/python3.6/site-packages (0.14.0)\r\n"
     ]
    }
   ],
   "source": [
    "# Install joblib. This will be used to save your model. \n",
    "# Restart your kernel after installing \n",
    "!pip install joblib"
   ]
  },
  {
   "cell_type": "code",
   "execution_count": 3,
   "metadata": {},
   "outputs": [
    {
     "name": "stdout",
     "output_type": "stream",
     "text": [
      "Automatically created module for IPython interactive environment\n"
     ]
    }
   ],
   "source": [
    "print(__doc__)\n",
    "\n",
    "from time import time\n",
    "import numpy as np\n",
    "import matplotlib.pyplot as plt\n",
    "import pandas as pd\n",
    "import os\n",
    "\n",
    "from sklearn import metrics\n",
    "from sklearn.cluster import KMeans\n",
    "# from sklearn.datasets import load_digits\n",
    "# from sklearn.decomposition import PCA\n",
    "# from sklearn.preprocessing import scale"
   ]
  },
  {
   "cell_type": "markdown",
   "metadata": {},
   "source": [
    " ## Read the CSV and Perform Basic Data Cleaning   "
   ]
  },
  {
   "cell_type": "code",
   "execution_count": 4,
   "metadata": {},
   "outputs": [
    {
     "data": {
      "text/html": [
       "<div>\n",
       "<style scoped>\n",
       "    .dataframe tbody tr th:only-of-type {\n",
       "        vertical-align: middle;\n",
       "    }\n",
       "\n",
       "    .dataframe tbody tr th {\n",
       "        vertical-align: top;\n",
       "    }\n",
       "\n",
       "    .dataframe thead th {\n",
       "        text-align: right;\n",
       "    }\n",
       "</style>\n",
       "<table border=\"1\" class=\"dataframe\">\n",
       "  <thead>\n",
       "    <tr style=\"text-align: right;\">\n",
       "      <th></th>\n",
       "      <th>Case No</th>\n",
       "      <th>A1</th>\n",
       "      <th>A2</th>\n",
       "      <th>A3</th>\n",
       "      <th>A4</th>\n",
       "      <th>A5</th>\n",
       "      <th>A6</th>\n",
       "      <th>A7</th>\n",
       "      <th>A8</th>\n",
       "      <th>A9</th>\n",
       "      <th>...</th>\n",
       "      <th>Ethnicity</th>\n",
       "      <th>Jaundice</th>\n",
       "      <th>Family_ASD</th>\n",
       "      <th>Residence</th>\n",
       "      <th>Used_App_Before</th>\n",
       "      <th>Score</th>\n",
       "      <th>Screening Type</th>\n",
       "      <th>Language</th>\n",
       "      <th>User</th>\n",
       "      <th>Class</th>\n",
       "    </tr>\n",
       "  </thead>\n",
       "  <tbody>\n",
       "    <tr>\n",
       "      <th>0</th>\n",
       "      <td>6</td>\n",
       "      <td>0</td>\n",
       "      <td>0</td>\n",
       "      <td>0</td>\n",
       "      <td>0</td>\n",
       "      <td>0</td>\n",
       "      <td>0</td>\n",
       "      <td>0</td>\n",
       "      <td>0</td>\n",
       "      <td>0</td>\n",
       "      <td>...</td>\n",
       "      <td>white</td>\n",
       "      <td>no</td>\n",
       "      <td>no</td>\n",
       "      <td>Russia</td>\n",
       "      <td>no</td>\n",
       "      <td>0</td>\n",
       "      <td>17 and more</td>\n",
       "      <td>russian</td>\n",
       "      <td>parent</td>\n",
       "      <td>NO</td>\n",
       "    </tr>\n",
       "    <tr>\n",
       "      <th>1</th>\n",
       "      <td>10</td>\n",
       "      <td>1</td>\n",
       "      <td>1</td>\n",
       "      <td>1</td>\n",
       "      <td>1</td>\n",
       "      <td>1</td>\n",
       "      <td>1</td>\n",
       "      <td>1</td>\n",
       "      <td>1</td>\n",
       "      <td>1</td>\n",
       "      <td>...</td>\n",
       "      <td>white</td>\n",
       "      <td>no</td>\n",
       "      <td>no</td>\n",
       "      <td>Germany</td>\n",
       "      <td>no</td>\n",
       "      <td>10</td>\n",
       "      <td>17 and more</td>\n",
       "      <td>english</td>\n",
       "      <td>self</td>\n",
       "      <td>YES</td>\n",
       "    </tr>\n",
       "    <tr>\n",
       "      <th>2</th>\n",
       "      <td>12</td>\n",
       "      <td>1</td>\n",
       "      <td>1</td>\n",
       "      <td>0</td>\n",
       "      <td>1</td>\n",
       "      <td>1</td>\n",
       "      <td>0</td>\n",
       "      <td>0</td>\n",
       "      <td>1</td>\n",
       "      <td>0</td>\n",
       "      <td>...</td>\n",
       "      <td>black</td>\n",
       "      <td>no</td>\n",
       "      <td>no</td>\n",
       "      <td>United States</td>\n",
       "      <td>no</td>\n",
       "      <td>5</td>\n",
       "      <td>17 and more</td>\n",
       "      <td>english</td>\n",
       "      <td>self</td>\n",
       "      <td>NO</td>\n",
       "    </tr>\n",
       "    <tr>\n",
       "      <th>3</th>\n",
       "      <td>16</td>\n",
       "      <td>1</td>\n",
       "      <td>0</td>\n",
       "      <td>0</td>\n",
       "      <td>0</td>\n",
       "      <td>1</td>\n",
       "      <td>1</td>\n",
       "      <td>1</td>\n",
       "      <td>1</td>\n",
       "      <td>1</td>\n",
       "      <td>...</td>\n",
       "      <td>black</td>\n",
       "      <td>no</td>\n",
       "      <td>no</td>\n",
       "      <td>Mexico</td>\n",
       "      <td>no</td>\n",
       "      <td>7</td>\n",
       "      <td>17 and more</td>\n",
       "      <td>french</td>\n",
       "      <td>self</td>\n",
       "      <td>YES</td>\n",
       "    </tr>\n",
       "    <tr>\n",
       "      <th>4</th>\n",
       "      <td>20</td>\n",
       "      <td>1</td>\n",
       "      <td>1</td>\n",
       "      <td>1</td>\n",
       "      <td>0</td>\n",
       "      <td>0</td>\n",
       "      <td>0</td>\n",
       "      <td>0</td>\n",
       "      <td>1</td>\n",
       "      <td>0</td>\n",
       "      <td>...</td>\n",
       "      <td>aboriginal</td>\n",
       "      <td>no</td>\n",
       "      <td>no</td>\n",
       "      <td>Indonesia</td>\n",
       "      <td>no</td>\n",
       "      <td>4</td>\n",
       "      <td>17 and more</td>\n",
       "      <td>english</td>\n",
       "      <td>self</td>\n",
       "      <td>NO</td>\n",
       "    </tr>\n",
       "  </tbody>\n",
       "</table>\n",
       "<p>5 rows × 23 columns</p>\n",
       "</div>"
      ],
      "text/plain": [
       "   Case No  A1  A2  A3  A4  A5  A6  A7  A8  A9  ...   Ethnicity  Jaundice   \\\n",
       "0        6   0   0   0   0   0   0   0   0   0  ...       white         no   \n",
       "1       10   1   1   1   1   1   1   1   1   1  ...       white         no   \n",
       "2       12   1   1   0   1   1   0   0   1   0  ...       black         no   \n",
       "3       16   1   0   0   0   1   1   1   1   1  ...       black         no   \n",
       "4       20   1   1   1   0   0   0   0   1   0  ...  aboriginal         no   \n",
       "\n",
       "  Family_ASD      Residence Used_App_Before Score Screening Type Language  \\\n",
       "0         no         Russia              no     0    17 and more  russian   \n",
       "1         no        Germany              no    10    17 and more  english   \n",
       "2         no  United States              no     5    17 and more  english   \n",
       "3         no         Mexico              no     7    17 and more   french   \n",
       "4         no      Indonesia              no     4    17 and more  english   \n",
       "\n",
       "     User Class  \n",
       "0  parent    NO  \n",
       "1    self   YES  \n",
       "2    self    NO  \n",
       "3    self   YES  \n",
       "4    self    NO  \n",
       "\n",
       "[5 rows x 23 columns]"
      ]
     },
     "execution_count": 4,
     "metadata": {},
     "output_type": "execute_result"
    }
   ],
   "source": [
    "# Read in csv\n",
    "df = pd.read_csv(\"../Resources/Autism.csv\")\n",
    "\n",
    "# Drop the null columns where all values are null\n",
    "df = df.dropna(axis='columns', how='all')\n",
    "\n",
    "# Drop the null rows\n",
    "df = df.dropna()\n",
    "df.head()"
   ]
  },
  {
   "cell_type": "code",
   "execution_count": 5,
   "metadata": {},
   "outputs": [
    {
     "name": "stdout",
     "output_type": "stream",
     "text": [
      "(1117, 10) (1117, 1)\n"
     ]
    }
   ],
   "source": [
    "# Set features. Start off with all inputs except 'Case No'\n",
    "X = df[['A1', 'A2', 'A3', 'A4', 'A5', 'A6', 'A7', 'A8', 'A9', 'A10']]\n",
    "y = df[['Class']]\n",
    "print(X.shape, y.shape)"
   ]
  },
  {
   "cell_type": "code",
   "execution_count": 6,
   "metadata": {},
   "outputs": [],
   "source": [
    "from sklearn.model_selection import train_test_split"
   ]
  },
  {
   "cell_type": "code",
   "execution_count": 7,
   "metadata": {},
   "outputs": [],
   "source": [
    "X_train, X_test, y_train, y_test = train_test_split(X, y, random_state = 42)"
   ]
  },
  {
   "cell_type": "code",
   "execution_count": 8,
   "metadata": {},
   "outputs": [],
   "source": [
    "Nc = range(2, 15)"
   ]
  },
  {
   "cell_type": "code",
   "execution_count": 9,
   "metadata": {},
   "outputs": [],
   "source": [
    "score_list = []\n",
    "k_list = []\n",
    "\n",
    "for k in Nc:\n",
    "    \n",
    "    model = KMeans(n_clusters=k)\n",
    "    model.fit(X_train)\n",
    "    score = model.score(X_train)\n",
    "    score_list.append(-score)\n",
    "    k_list.append(k)"
   ]
  },
  {
   "cell_type": "code",
   "execution_count": 10,
   "metadata": {},
   "outputs": [
    {
     "data": {
      "image/png": "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\n",
      "text/plain": [
       "<Figure size 432x288 with 1 Axes>"
      ]
     },
     "metadata": {
      "needs_background": "light"
     },
     "output_type": "display_data"
    }
   ],
   "source": [
    "plt.plot(k_list,score_list)\n",
    "plt.xlabel('Number of Clusters')\n",
    "plt.ylabel('Score')\n",
    "plt.title('Elbow Curve')\n",
    "\n",
    "plt.savefig(os.path.join(\"..\", \"Images\",\"kmeansElbow.png\"))\n",
    "plt.show()\n"
   ]
  },
  {
   "cell_type": "code",
   "execution_count": 11,
   "metadata": {},
   "outputs": [
    {
     "data": {
      "text/plain": [
       "array([ 9, 10, 10,  3, 10,  9,  3,  3,  6,  0,  4,  1,  5, 10,  0,  3,  3,\n",
       "        4,  9,  8,  9,  4,  8,  4,  6, 10,  8, 10,  0,  6,  9,  2,  4,  1,\n",
       "        5, 10,  0,  1, 10,  8,  9,  2,  4,  0,  4,  0, 11,  9, 11,  2, 10,\n",
       "        1,  0,  1,  7,  2,  2,  2,  5, 10, 12,  1,  4,  1, 10, 10,  9,  9,\n",
       "       10, 10,  3, 11,  2,  3,  4,  1,  2, 12,  5,  0, 10,  7,  1,  3,  4,\n",
       "        6, 12,  3,  4,  9,  5,  2,  1, 11, 10, 13,  3, 10, 10, 13,  2,  1,\n",
       "        1, 13,  5, 11, 12,  3,  1,  6, 12,  7,  2, 10,  9,  1,  7, 11,  8,\n",
       "        0, 11,  9, 11,  6,  4,  2,  5, 11,  6,  3,  5,  7, 10,  5,  5,  9,\n",
       "        6,  1,  5,  1,  6, 10, 10,  5,  0, 12,  5,  2,  7,  9,  1,  4, 10,\n",
       "        2, 11, 10,  2, 11,  4,  2, 13, 10, 10,  6,  7,  0, 11,  1, 10,  8,\n",
       "        6,  2,  5,  1,  3, 12, 10, 10, 10, 13,  5,  5,  4,  3, 10,  4,  5,\n",
       "        7,  5,  2, 12,  0, 11, 10, 13,  3, 11, 11,  1,  1,  0,  9, 11,  2,\n",
       "        4, 11,  4,  1, 11,  5, 11,  2,  4, 11,  7, 10,  5,  6,  1,  4,  3,\n",
       "       12,  1, 13,  9, 13,  9, 10,  9, 12, 13,  1,  5, 10,  4,  3,  0,  2,\n",
       "        2,  6, 11,  2,  7, 13, 10, 11,  4,  0,  2,  4, 11,  3,  1,  6,  2,\n",
       "       11, 10,  4, 12,  6,  2, 11,  1,  4,  9,  6, 10,  6, 11,  9,  6,  2,\n",
       "        0, 11,  1,  1,  2,  4,  1,  0,  1,  2,  2,  3, 10, 12,  4,  2, 11,\n",
       "        0,  8, 13,  4,  5,  3,  6, 11,  4,  0,  2, 10,  0, 10, 13,  4,  3,\n",
       "        1,  2,  6,  7,  0,  0,  6, 10,  2,  7,  3, 12,  7, 11,  4,  1,  4,\n",
       "        3,  4, 12,  4,  5, 11,  4,  7,  3,  9,  5,  7,  5,  8,  6,  0, 12,\n",
       "        9,  5, 10,  6,  1,  5, 12, 10,  3, 13, 12, 11, 10, 10,  8,  3,  3,\n",
       "       10, 13,  7,  2,  5,  5,  7,  1,  3,  1,  0,  4, 10,  3,  3,  0,  8,\n",
       "       11,  5,  1, 11,  7,  4,  4,  1,  1,  2,  2, 10,  1, 12,  1,  4,  5,\n",
       "        1,  1,  0,  9, 10,  7,  3,  3, 12,  9, 13,  5,  0,  3,  3, 10,  1,\n",
       "        8, 10,  7,  3,  8, 10,  0, 11,  1,  8, 11, 10, 11,  2, 13,  5, 11,\n",
       "        7,  0,  0,  5,  1,  6,  8,  2, 10,  1,  4,  9,  4, 12,  1,  4,  5,\n",
       "       10,  6,  9,  4, 13,  9,  4,  3, 10,  4,  2,  7, 12,  2,  1,  5,  6,\n",
       "       12,  4, 10, 11, 10,  0,  6,  1,  7, 10,  1, 10,  4,  0,  6, 11, 10,\n",
       "        2,  6, 10,  5,  8,  4, 11, 13,  0,  6, 12, 11, 10, 11,  3,  2, 13,\n",
       "       12,  9,  4,  9, 10,  6,  1,  0,  1,  6,  3,  5, 13, 10,  3,  1,  5,\n",
       "        4,  4,  4,  1, 10, 10, 10,  1,  5,  6,  3,  3,  0,  1, 13,  1, 11,\n",
       "        8, 13,  0, 10, 10, 12, 10,  5,  1,  1, 10, 12,  9,  0,  0, 10,  6,\n",
       "        6, 10,  7,  9,  5, 11,  2,  7, 10,  4,  8,  0,  3,  2,  9,  8,  2,\n",
       "        9,  2,  3,  5,  4, 13,  4, 10,  2,  5,  0,  3,  3,  6,  8,  3,  6,\n",
       "        9,  2,  9,  3,  6,  6,  6,  4,  8, 10, 11,  8, 13,  0,  0,  6,  4,\n",
       "        2,  2,  1,  1,  5, 11,  2,  3,  1,  8, 12,  1,  4,  9,  0, 11,  7,\n",
       "        2, 10,  6,  4, 11,  0,  5,  5,  6, 13,  5,  0,  6,  3,  2,  3,  9,\n",
       "       10,  7, 10, 13,  3,  5,  3, 11,  1,  0,  1,  3, 13,  8, 10,  9, 13,\n",
       "        5,  5,  3,  6,  2, 12,  9,  8,  5,  7,  3,  6,  3,  6, 10, 11,  6,\n",
       "       13,  6,  7, 13,  2,  0,  2, 11,  9,  2, 11,  1, 10,  7, 10,  2,  7,\n",
       "        4,  8, 13,  1,  4,  2, 12,  5, 10,  0,  6,  5,  4, 12, 11, 10, 10,\n",
       "        2,  9,  3,  0,  4,  9,  1, 10, 12,  3,  5,  9, 13, 10,  1,  4,  2,\n",
       "        4,  1,  9, 10,  4,  5,  0, 10,  2,  9,  3, 11,  1, 10,  7,  2, 12,\n",
       "        0,  0,  7,  3, 12, 10,  1, 13,  5,  3,  1, 10, 13,  9,  9, 13,  9,\n",
       "        2,  6,  5,  3,  7, 11,  0,  8, 11,  8,  0,  3,  4,  7,  5,  5,  2,\n",
       "        5,  3,  8,  5,  2,  3,  5,  3,  7, 10, 11,  7,  6,  7,  1,  3,  9,\n",
       "        1,  2, 13,  1,  9, 10,  1,  9,  8, 13, 10, 11,  6,  1,  6, 13,  5,\n",
       "        5,  7,  0,  3, 11, 10, 13,  8,  1, 11, 10,  6, 11,  1,  8,  0,  9,\n",
       "        4,  5, 10, 10, 13,  5, 11, 10, 11,  1,  2,  8,  7,  5,  0,  6,  5,\n",
       "       11,  3,  6,  0], dtype=int32)"
      ]
     },
     "execution_count": 11,
     "metadata": {},
     "output_type": "execute_result"
    }
   ],
   "source": [
    "model.labels_"
   ]
  },
  {
   "cell_type": "code",
=======
>>>>>>> f095a563b44401bc3a7e157fe3195a9d95bec532
   "execution_count": null,
   "metadata": {},
   "outputs": [],
   "source": []
  }
 ],
 "metadata": {
  "kernelspec": {
   "display_name": "Python 3",
   "language": "python",
   "name": "python3"
  },
  "language_info": {
   "codemirror_mode": {
    "name": "ipython",
    "version": 3
   },
   "file_extension": ".py",
   "mimetype": "text/x-python",
   "name": "python",
   "nbconvert_exporter": "python",
   "pygments_lexer": "ipython3",
   "version": "3.6.9"
  }
 },
 "nbformat": 4,
 "nbformat_minor": 2
}
